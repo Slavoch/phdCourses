{
 "cells": [
  {
   "cell_type": "markdown",
   "metadata": {},
   "source": [
    "# 1. (7 points)\n",
    "Suppose we have a set of data points $X = \\{x_1, . . . , x_m\\}$ in $R^n$\n"
   ]
  },
  {
   "cell_type": "markdown",
   "metadata": {},
   "source": [
    "## (a) (2 points) \n",
    "Let $x_c$ be the centroid of $X$, i.e., the average of all the data points.\n",
    "We want to find the point $y$ in the convex hull $H$ of $X$ that is farthest from $x_c$.\n",
    "Formulate the optimization problem to find $y$ and prove that it is a convex optimization problem.\n",
    "\n",
    "Prove that the optimal solution is a vertex of the convex hull H."
   ]
  },
  {
   "cell_type": "markdown",
   "metadata": {},
   "source": [
    "problem \n",
    "\n",
    "$$ max ||y-x_c|| = max f(y)$$\n",
    "$$s.t.  y \\in H$$\n",
    "\n",
    "Choose any point $v$ in $H$ i.e. $v = \\sum_{i=1}^m{\\lambda_i x_i}$\n",
    "$| \\sum_i \\lambda_i = 1$\n",
    "\n",
    "$f(v) = f(\\sum_{i=1}^m{\\lambda_i * x_i}) \\leq [Jensen's] \\sum_{i=1}^m \\lambda_i f({ x_i}) \\leq \\sum_{i=1}^m \\lambda_i max f({ x_i})= \\sum_{i=1}^m \\lambda_i f(x^*) = f(x^*)$\n",
    "\n",
    "$f(v) \\leq f(x^*)$ where $x^*$ is one of the points $x_i$ that is the one of the vertex in $H$. => $f$ reaches the maximum at one of the vertexes of $H$.\n"
   ]
  },
  {
   "cell_type": "markdown",
   "metadata": {},
   "source": [
    "## (b) (1 point)\n",
    "Let u be a vector that is orthogonal to $(y − x_c)$, where $y$ is the optimal solution from (a).\n",
    "We want to find the point x in the convex hull H that maximizes the inner product $(x − x_c)^T u$\n",
    "\n",
    "Formulate the optimization problem to find $x$ and prove that the optimal solution is another vertex of the convex hull $H$."
   ]
  },
  {
   "cell_type": "markdown",
   "metadata": {},
   "source": [
    "problem  \n",
    "$$ max f(x) = max (x-x_c)^T u$$\n",
    "$$ s.t. x \\in H$$\n",
    "$$(y-x_c)^T u = 0$$\n",
    "\n",
    "Similarly with (a) using Jensen's inequality: $f(x) \\leq f(x^*)$ where $x^*$ is one of the vertex of $H$.\n",
    "As far as $f(x_c)=f(y) =0$ => f cannot reach the maxima on the vertex $y$ because in this case f would reach maxima on $x_c$ too witch is not the vertex - contradiction. => f reaches maxima on one of the vertexes $\\{x_i\\} / y$."
   ]
  },
  {
   "cell_type": "markdown",
   "metadata": {},
   "source": [
    "## (c)(2 points)\n",
    "Let $E_x = \\{x ∈ R^n: (x − c)^T Q(x − c) ≤ n\\}$ be the ellipsoid with the smallest volume that contains all the points in X.\n",
    "\n",
    "Formulate the optimization problem to find Ex, and prove that the convex hull H of\n",
    "X is contained in E."
   ]
  },
  {
   "cell_type": "markdown",
   "metadata": {},
   "source": [
    "problem:\n",
    "\n",
    "volume of ellipsoid $\\sqrt{det(Q^{-1})}*vol(B(0,r)) \\approx \\sqrt{det(Q^{-1})}r^n$\n",
    "$$\\min \\sqrt{det(Q^{-1})}r^n$$\n",
    "$$s.t. (x_i − c)^T Q(x_i − c) \\leq n $$\n",
    "\n",
    "or \n",
    "$$\\min \\log(\\sqrt{det(Q^{-1})}r^n)$$\n",
    "$$s.t. (x_i − c)^T Q(x_i − c) \\leq n $$\n",
    "\n",
    "as far as hessian of $(x − c)^T Q(x − c)$ is $Q > 0$ => it is convex function and sublevel set of convex function is convex => all points in $H \\in E_x$"
   ]
  },
  {
   "cell_type": "markdown",
   "metadata": {},
   "source": [
    "## (d)(1 point) \n",
    "Define $z_k = [x_k, 1]^T$, and $E_z = \\{z ∈ R_{n+1}: z^T Pz ≤ n + 1\\}$ the ellipsoid with smallest volume which contains all $z_k$.\n",
    "Prove that\n",
    "$$R= \n",
    "\\begin{array}{|c|c|}\n",
    "  Q & -Qc \\\\ \n",
    "  -(Qc)^T & 1+c^TQc \\\\ \n",
    "\\end{array}\n",
    "$$"
   ]
  },
  {
   "cell_type": "markdown",
   "metadata": {},
   "source": [
    "$$\n",
    "\\begin{align*}\n",
    "z_k^T R z & = [x_k^T Q - (Qc)^T| -x^TQc + c^TQc +1]z =\\\\\n",
    "& = x_k^TQx_k - (Qc)^Tx_k -x^TQc + c^TQc +1 = \\\\\n",
    "& = (x_k^T - c^T)Q(x_k +c)+1\n",
    "\\end{align*}\n",
    "$$\n",
    "\n",
    "$$\n",
    "\\begin{align*}\n",
    "& z_k^T R z \\leq n +1\\\\\n",
    "& (x_k^T - c^T)Q(x_k +c)+1\\leq n+1 \\\\\n",
    "& (x_k - c)^TQ(x_k +c)\\leq n\n",
    "\n",
    "\\end{align*}\n",
    "$$"
   ]
  },
  {
   "cell_type": "markdown",
   "metadata": {},
   "source": [
    "# 2\n",
    "Derive optimality conditions and analytical solution (if it exists) of the following optimization problems, solve them. Demonstrate the problem and compare the results with those obtained by CVX or CVXpy.\n"
   ]
  },
  {
   "cell_type": "markdown",
   "metadata": {},
   "source": [
    "$ b ∈ R^n$ is vectorization of an image corrupted by Gaussian noise, A is of size $n × m, m > n, x ∈ R^m$.\n",
    "$A$ can be concatenation of discrete cosine transform matrix and wavelets\n",
    "transform operators.\n"
   ]
  },
  {
   "cell_type": "code",
   "execution_count": 3,
   "metadata": {},
   "outputs": [
    {
     "data": {
      "text/plain": [
       "<matplotlib.image.AxesImage at 0x13b8e2a11e0>"
      ]
     },
     "execution_count": 3,
     "metadata": {},
     "output_type": "execute_result"
    },
    {
     "data": {
      "image/png": "[encoded data removed]",
      "text/plain": [
       "<Figure size 432x288 with 1 Axes>"
      ]
     },
     "metadata": {
      "needs_background": "light"
     },
     "output_type": "display_data"
    }
   ],
   "source": [
    "from PIL import Image\n",
    "import requests\n",
    "from io import BytesIO\n",
    "import matplotlib.pyplot as plt\n",
    "import numpy as np\n",
    "\n",
    "response = requests.get(\"https://leafy.id/wp-content/uploads/2019/12/p9.jpg\")\n",
    "img = Image.open(BytesIO(response.content)).convert(\"L\")\n",
    "size = (32, 28)\n",
    "img_resized = img.resize(size, Image.Resampling.LANCZOS)\n",
    "image = np.array(img_resized)\n",
    "y = image.flatten()\n",
    "noize = np.abs(np.random.randn(y.shape[0])) * 10\n",
    "b = (y + noize) / 255\n",
    "# b = y / 255\n",
    "plt.imshow(b.reshape(image.shape), cmap=\"gray\")"
   ]
  },
  {
   "cell_type": "markdown",
   "metadata": {},
   "source": [
    "## (a)\n",
    "$$\n",
    "\\begin{align*}\n",
    "& \\min_x \\quad ||x-b||_2^2 \\quad x \\geq 0, 1^T x =1 \\\\\n",
    "& \\mathcal{L} = \\frac{1}{2}||x − b||_2^2 + \\lambda^Tx + \\gamma (1^T x - 1) \\quad s.t. \\lambda_ix_i=0\\\\\n",
    "& \\frac{\\partial\\mathcal{L}}{\\partial x} = (x-b) +\\lambda + \\gamma 1 = 0\\\\\\\\\n",
    "& \\text{if $\\lambda_i$ = 0 =>}x-b + \\gamma 1 = 0 => x^* = b-\\mathbf{1\\gamma}\\\\\n",
    "& \\mathbf{1^T}x^* = \\mathbf{1^T}b-\\mathbf{1^T}\\mathbf{1\\gamma} = 1\\\\\n",
    "& \\gamma = \\frac{\\mathbf{1^T}b -1}{count(x_i>0)}\\\\\\\\\n",
    "& \\text{if $\\lambda_i \\neq 0$ => }x_i =0\\\\\n",
    "& x_i = \n",
    "\\begin{matrix}\n",
    "b- \\frac{\\mathbf{1^T}b -1}{count(x_i>0)}& \\text{if $x_i >0$} \\\\\n",
    "0 & \\text{else}\n",
    "\\end{matrix}\n",
    "\\end{align*}\\\\\n",
    "$$\n",
    "\n"
   ]
  },
  {
   "cell_type": "code",
   "execution_count": 4,
   "metadata": {},
   "outputs": [
    {
     "data": {
      "image/png": "[encoded data removed]",
      "text/plain": [
       "<Figure size 432x288 with 1 Axes>"
      ]
     },
     "metadata": {
      "needs_background": "light"
     },
     "output_type": "display_data"
    }
   ],
   "source": [
    "x_star = np.ones_like(b)\n",
    "for i in range(10):\n",
    "    ones = np.ones(sum(x_star > 0))\n",
    "    x_star[x_star > 0] = b[x_star > 0] + ones * (1 - ones.T @ b[x_star > 0]) / sum(ones)\n",
    "    if (x_star < 0).any():\n",
    "        x_star[x_star < 0] = 0\n",
    "    else:\n",
    "        break\n",
    "plt.title(\"my solution\")\n",
    "plt.imshow(x_star.reshape(image.shape))\n",
    "plt.show()"
   ]
  },
  {
   "cell_type": "code",
   "execution_count": 5,
   "metadata": {},
   "outputs": [
    {
     "name": "stdout",
     "output_type": "stream",
     "text": [
      "comperison of solutions max(x^* - x_cvx)= -8.1005068433496e-21\n"
     ]
    },
    {
     "data": {
      "image/png": "[encoded data removed]",
      "text/plain": [
       "<Figure size 432x288 with 1 Axes>"
      ]
     },
     "metadata": {
      "needs_background": "light"
     },
     "output_type": "display_data"
    }
   ],
   "source": [
    "import cvxpy as cp\n",
    "\n",
    "x = cp.Variable(b.shape[0])\n",
    "objective = cp.Minimize(cp.sum_squares(x - b))\n",
    "constraints = [0 <= x, np.ones_like(b) @ x == 1]\n",
    "prob = cp.Problem(objective, constraints)\n",
    "result = prob.solve()\n",
    "print(f\"comperison of solutions max(x^* - x_cvx)= {max(x.value-x_star)}\")\n",
    "plt.title(\"CVX\")\n",
    "plt.imshow(x.value.reshape(image.shape))\n",
    "plt.show()"
   ]
  },
  {
   "cell_type": "markdown",
   "metadata": {},
   "source": [
    "## (b)\n",
    "$$\n",
    "\\begin{align*}\n",
    "& \\min_x \\quad ||x-b||_2^2 \\quad x \\geq 0, ||x||_\\infty \\leq1 \\\\\n",
    "\n",
    "& \\min_x ||x-b||_2^2 = \\min_x \\sum{(x_i-b_i)^2}=\\sum{\\min_{x_i} (x_i-b_i)^2}\\\\\n",
    "& \\min_x ||x-b||_2^2 \\text{ equivalent to }\\min_{x_i} (x_i-b_i)^2 \\text{ for all $i$}\\\\\n",
    "\n",
    "& \\text{$f(x_i)$ reaches minima on $x_i = b_i$, but $\\max(x) \\leq 1$ =>}\\\\\n",
    "& x_i = \\min(b_i,1)\\\\\n",
    "& \\text{as far as $b_i \\geq 0 => x_i \\geq 0$ is always satisfied}\\\\\n",
    "& \\text{but in general } x_i = \\min(\\max(b_i,0),1)\\\\\n",
    "\\end{align*}\\\\\n",
    "$$\n"
   ]
  },
  {
   "cell_type": "code",
   "execution_count": 6,
   "metadata": {},
   "outputs": [
    {
     "data": {
      "image/png": "[encoded data removed]",
      "text/plain": [
       "<Figure size 432x288 with 1 Axes>"
      ]
     },
     "metadata": {
      "needs_background": "light"
     },
     "output_type": "display_data"
    }
   ],
   "source": [
    "ones = np.ones_like(b)\n",
    "x_star = np.array([min(1, b_i) for b_i in b])\n",
    "plt.title(\"my solution\")\n",
    "plt.imshow(x_star.reshape(image.shape))\n",
    "plt.show()"
   ]
  },
  {
   "cell_type": "code",
   "execution_count": 7,
   "metadata": {},
   "outputs": [
    {
     "name": "stdout",
     "output_type": "stream",
     "text": [
      "comperison of solutions max(x^* - x_cvx)= 9.643797220793004e-07\n"
     ]
    },
    {
     "data": {
      "image/png": "[encoded data removed]",
      "text/plain": [
       "<Figure size 432x288 with 1 Axes>"
      ]
     },
     "metadata": {
      "needs_background": "light"
     },
     "output_type": "display_data"
    }
   ],
   "source": [
    "x = cp.Variable(b.shape[0])\n",
    "objective = cp.Minimize(cp.sum_squares(x - b))\n",
    "constraints = [0 <= x, cp.norm(x, \"inf\") <= 1]\n",
    "prob = cp.Problem(objective, constraints)\n",
    "result = prob.solve(solver=cp.ECOS)\n",
    "print(f\"comperison of solutions max(x^* - x_cvx)= {max(x.value-x_star)}\")\n",
    "plt.title(\"CVX\")\n",
    "plt.imshow(x.value.reshape(image.shape))\n",
    "plt.show()"
   ]
  },
  {
   "cell_type": "markdown",
   "metadata": {},
   "source": [
    "## (c)\n",
    "$$\n",
    "\\begin{align*}\n",
    "& \\min_x \\quad ||b - Ax||_2^2 \\quad \\text{s.t.} \\quad ||x||^2_2 \\leq 1 \\\\\n",
    "& \\mathcal{L} =  \\frac{1}{2}||b - Ax||_2^2 + \\frac{1}{2}\\lambda (||x||^2_2 - 1)\\\\\n",
    "& \\frac{\\partial\\mathcal{L}}{\\partial x} = A^T(Ax-b) + \\lambda x = 0\\\\\n",
    "& \\text{By complementary slackness if $\\lambda = 0 => ||x||^2_2 < 1$} \\\\\n",
    "& x^* = (A^TA)^{-1}A^Tb \\quad \\text{if $||x^*||^2_2 < 1$}\\\\\n",
    "& \\text{By complementary slackness if $\\lambda \\neq 0 => ||x||^2_2 = 1$} \\\\\n",
    "& x^* = (A^TA + \\lambda I)^{-1}A^Tb \\quad \\text{if $||x^*||^2_2 = 1$}\\\\\n",
    "& x^Tx =b^TA(A^TA + \\lambda I)^{-1}(A^TA + \\lambda I)^{-1}A^Tb = \\\\\n",
    "& A = U\\Lambda V^T\\\\\n",
    "& (A^TA + \\lambda I)^{-1} = (V \\Lambda U^T U\\Lambda V^T +\\lambda I)^{-1}=\\\\\n",
    "& \\quad = (V(\\Lambda^2+\\lambda I)V^T)^{-1} = V(\\Lambda^2+\\lambda I)^{-1}V^T =\\\\\n",
    "& \\quad = VQV^T = V diag(\\frac{1}{\\sigma_i^2 + \\lambda})V^T\\\\\n",
    "& x^Tx =b^TU\\Lambda V^TVQV^TVQV^TV\\Lambda U^Tb = b^TU\\Lambda QQ\\Lambda U^Tb\\\\\n",
    "& z = U^Tb\\\\\n",
    "& x^Tx = z^T \\Lambda QQ\\Lambda z = \\sum \\frac{\\sigma_i^2 z_i^2}{(\\sigma_i^2 + \\lambda)^2} = 1\\\\\n",
    "& \\text{I couldn't find $\\lambda$ analiticaly and did numerically}\\\\\n",
    "& x^* = (A^TA + \\lambda I)^{-1}A^Tb \\quad \\text{for} \\quad \\sum\\frac{\\sigma_i^2 z_i^2}{(\\sigma_i^2 + \\lambda)^2} = 1\\\\\n",
    "& x^* = (A^TA)^{-1}A^Tb \\quad \\text{if $||x^*||^2_2 < 1$}\\\\\n",
    "\\end{align*}\\\\\n",
    "$$"
   ]
  },
  {
   "cell_type": "code",
   "execution_count": 30,
   "metadata": {},
   "outputs": [],
   "source": [
    "n = 10\n",
    "A = np.random.random((b.shape[0], n)) / 10"
   ]
  },
  {
   "cell_type": "code",
   "execution_count": 150,
   "metadata": {},
   "outputs": [
    {
     "name": "stdout",
     "output_type": "stream",
     "text": [
      "31.61341941827213 [345.54478756]\n",
      "0.12510985269160216 [137.68847696]\n",
      "0.6575984804310562 [95.77240235]\n",
      "1.2030553306936163 [114.25884534]\n",
      "0.9010445183420188 [103.83878407]\n",
      "1.0550294734744476 [109.19565442]\n",
      "0.9713269471460142 [106.28643886]\n",
      "1.0154938512876475 [107.82394358]\n",
      "0.9917851705358331 [106.99906787]\n",
      "1.004400431325675 [107.43814564]\n",
      "0.9976556184970007 [107.20343225]\n",
      "1.0012526434988502 [107.32861821]\n",
      "0.9993317297639673 [107.26176885]\n",
      "1.0003568101369766 [107.2974435]\n",
      "0.9998095723704978 [107.27839892]\n",
      "1.0001016542187526 [107.28856383]\n",
      "we found it!! lambda = [107.28856383]\n"
     ]
    }
   ],
   "source": [
    "def get_constraint(sigma, z, lam):\n",
    "    return sum((sigma**2 * z**2) / (sigma**2 + lam) ** 2)\n",
    "\n",
    "\n",
    "x_star = np.linalg.inv(A.T @ A) @ A.T @ b\n",
    "\n",
    "if np.linalg.norm(x_star, 2) >= 1:\n",
    "    U, Sigma, V = np.linalg.svd(A, full_matrices=False)\n",
    "    V = V.T\n",
    "    lam = np.random.random(1)\n",
    "    z = U.T @ b\n",
    "    lr = 1e2\n",
    "\n",
    "    ### Finding lambda numerically\n",
    "    for i in range(100):\n",
    "        constraint = get_constraint(Sigma, z, lam)\n",
    "        if abs(constraint - 1) < 1e-4:\n",
    "            print(f\"we found it!! lambda = {lam}\")\n",
    "            break\n",
    "        else:\n",
    "            lam += lr * np.log(constraint)\n",
    "        print(constraint, lam)\n",
    "    x_star = np.linalg.inv(A.T @ A + lam * np.eye(n)) @ A.T @ b"
   ]
  },
  {
   "cell_type": "code",
   "execution_count": 151,
   "metadata": {},
   "outputs": [
    {
     "name": "stdout",
     "output_type": "stream",
     "text": [
      "comperison of solutions max(x^* - x_cvx)= 8.733733254662202e-06\n"
     ]
    }
   ],
   "source": [
    "x = cp.Variable(n)\n",
    "objective = cp.Minimize(cp.sum_squares(A @ x - b))\n",
    "constraints = [cp.norm(x, 2) ** 2 <= 1]\n",
    "prob = cp.Problem(objective, constraints)\n",
    "result = prob.solve(solver=cp.ECOS)\n",
    "print(f\"comperison of solutions max(x^* - x_cvx)= {max(x.value-x_star)}\")"
   ]
  },
  {
   "cell_type": "code",
   "execution_count": 156,
   "metadata": {},
   "outputs": [
    {
     "data": {
      "image/png": "[encoded data removed]",
      "text/plain": [
       "<Figure size 432x288 with 1 Axes>"
      ]
     },
     "metadata": {
      "needs_background": "light"
     },
     "output_type": "display_data"
    }
   ],
   "source": [
    "plt.title(\"x_cvx vs x_star\")\n",
    "plt.plot(x.value, label=\"x_cvx\")\n",
    "plt.plot(x_star, label=\"x_star\")\n",
    "plt.legend()\n",
    "plt.show()"
   ]
  },
  {
   "cell_type": "markdown",
   "metadata": {},
   "source": [
    "# 3 (4 points) Clustering\n",
    "Consider images in the MNIST dataset for three digits 0, 1, and 2. Denote by $Y =\n",
    "[y_1, . . . , y_K]$ a matrix of vectorization of the images."
   ]
  },
  {
   "cell_type": "markdown",
   "metadata": {},
   "source": [
    "## (a)\n",
    "Solve the following optimization problem to find an orthogonal matrix U and a feature matrix, $X = [x_1, . . . , x_K]$, of size $R \\times K$"
   ]
  }
 ],
 "metadata": {
  "kernelspec": {
   "display_name": "Python 3",
   "language": "python",
   "name": "python3"
  },
  "language_info": {
   "codemirror_mode": {
    "name": "ipython",
    "version": 3
   },
   "file_extension": ".py",
   "mimetype": "text/x-python",
   "name": "python",
   "nbconvert_exporter": "python",
   "pygments_lexer": "ipython3",
   "version": "3.10.4"
  }
 },
 "nbformat": 4,
 "nbformat_minor": 2
}
