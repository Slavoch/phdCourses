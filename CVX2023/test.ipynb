{
 "cells": [
  {
   "cell_type": "code",
   "execution_count": 72,
   "metadata": {},
   "outputs": [],
   "source": [
    "import cvxpy as cp\n",
    "import numpy as np\n",
    "import matplotlib.pyplot as plt"
   ]
  },
  {
   "cell_type": "code",
   "execution_count": 62,
   "metadata": {},
   "outputs": [
    {
     "data": {
      "text/plain": [
       "array([-0.2921775 , -0.5       , -0.01985488, -0.5       , -0.31745662,\n",
       "        0.5       ])"
      ]
     },
     "execution_count": 62,
     "metadata": {},
     "output_type": "execute_result"
    }
   ],
   "source": [
    "n = 6\n",
    "gamma = 0.5\n",
    "v = cp.Variable(n)\n",
    "y = 1 - np.random.random(n) * 2\n",
    "I = np.eye(n)\n",
    "objective = cp.Maximize(-1 / 2 * (v.T @ I @ v) + (y.T @ I @ v))\n",
    "constraints = [cp.norm(v, \"inf\") <= gamma]\n",
    "prob = cp.Problem(objective, constraints)\n",
    "result = prob.solve()\n",
    "v.value"
   ]
  },
  {
   "cell_type": "code",
   "execution_count": 63,
   "metadata": {},
   "outputs": [
    {
     "data": {
      "text/plain": [
       "array([-5.55018808e-23, -3.57795952e-01, -2.47843110e-32, -3.53553554e-02,\n",
       "       -5.55018808e-23,  1.71910425e-01])"
      ]
     },
     "execution_count": 63,
     "metadata": {},
     "output_type": "execute_result"
    }
   ],
   "source": [
    "n = 6\n",
    "gamma = 0.5\n",
    "x = cp.Variable(n)\n",
    "# y = 1 - np.random.random(n) * 2\n",
    "I = np.eye(n)\n",
    "objective = cp.Minimize(1 / 2 * cp.sum_squares(y - x) + gamma * cp.norm(x, 1))\n",
    "prob = cp.Problem(objective)\n",
    "result = prob.solve()\n",
    "x.value"
   ]
  },
  {
   "cell_type": "code",
   "execution_count": 68,
   "metadata": {},
   "outputs": [],
   "source": [
    "v_star = np.array([yi if abs(yi) <= gamma else gamma * np.sign(yi) for yi in y])"
   ]
  },
  {
   "cell_type": "code",
   "execution_count": 150,
   "metadata": {},
   "outputs": [
    {
     "data": {
      "text/plain": [
       "array([ 0.        , -0.35779595,  0.        , -0.03535536,  0.        ,\n",
       "        0.17191042])"
      ]
     },
     "execution_count": 150,
     "metadata": {},
     "output_type": "execute_result"
    }
   ],
   "source": [
    "y - v_star"
   ]
  },
  {
   "cell_type": "code",
   "execution_count": 151,
   "metadata": {},
   "outputs": [],
   "source": [
    "n = 5\n",
    "m = 7\n",
    "delta = 0.3\n",
    "Y = np.random.random((n, m))\n",
    "X = cp.Variable((n, m))\n",
    "objective = cp.Minimize(cp.norm(X - Y, \"fro\") ** 2)\n",
    "constraints = [cp.norm(X, \"nuc\") <= delta]\n",
    "prob = cp.Problem(objective, constraints)\n",
    "result = prob.solve()"
   ]
  },
  {
   "cell_type": "code",
   "execution_count": 152,
   "metadata": {},
   "outputs": [
    {
     "data": {
      "text/plain": [
       "<matplotlib.image.AxesImage at 0x1a89d950df0>"
      ]
     },
     "execution_count": 152,
     "metadata": {},
     "output_type": "execute_result"
    },
    {
     "data": {
      "image/png": "[encoded data removed]",
      "text/plain": [
       "<Figure size 432x288 with 1 Axes>"
      ]
     },
     "metadata": {
      "needs_background": "light"
     },
     "output_type": "display_data"
    }
   ],
   "source": [
    "plt.imshow(X.value)"
   ]
  },
  {
   "cell_type": "code",
   "execution_count": 153,
   "metadata": {},
   "outputs": [],
   "source": [
    "U, sigma, Vt = np.linalg.svd(Y, full_matrices=False)\n",
    "ones = np.ones_like(sigma)"
   ]
  },
  {
   "cell_type": "code",
   "execution_count": 154,
   "metadata": {},
   "outputs": [],
   "source": [
    "if sum(sigma) < delta:\n",
    "    z_star = sigma\n",
    "else:\n",
    "    z_star = np.ones_like(sigma)\n",
    "    for i in range(10):\n",
    "        ones = np.ones(sum(z_star > 0))\n",
    "        z_star[z_star > 0] = sigma[z_star > 0] + ones * (\n",
    "            delta - ones.T @ sigma[z_star > 0]\n",
    "        ) / sum(ones)\n",
    "        if (z_star < 0).any():\n",
    "            z_star[z_star < 0] = 0\n",
    "        else:\n",
    "            break"
   ]
  },
  {
   "cell_type": "code",
   "execution_count": 155,
   "metadata": {},
   "outputs": [
    {
     "data": {
      "text/plain": [
       "array([0.3, 0. , 0. , 0. , 0. ])"
      ]
     },
     "execution_count": 155,
     "metadata": {},
     "output_type": "execute_result"
    }
   ],
   "source": [
    "X_star = U @ np.diag(z_star) @ Vt\n",
    "ones = np.ones(sum(z_star > 0))\n",
    "sigma[z_star > 0] + ones * (delta - ones.T @ sigma[z_star > 0]) / sum(ones)\n",
    "z_star"
   ]
  },
  {
   "cell_type": "code",
   "execution_count": 156,
   "metadata": {},
   "outputs": [
    {
     "data": {
      "text/plain": [
       "<matplotlib.image.AxesImage at 0x1a89da0e5f0>"
      ]
     },
     "execution_count": 156,
     "metadata": {},
     "output_type": "execute_result"
    },
    {
     "data": {
      "image/png": "[encoded data removed]",
      "text/plain": [
       "<Figure size 432x288 with 1 Axes>"
      ]
     },
     "metadata": {
      "needs_background": "light"
     },
     "output_type": "display_data"
    }
   ],
   "source": [
    "plt.imshow(X_star)"
   ]
  },
  {
   "cell_type": "code",
   "execution_count": null,
   "metadata": {},
   "outputs": [],
   "source": []
  }
 ],
 "metadata": {
  "kernelspec": {
   "display_name": "Python 3",
   "language": "python",
   "name": "python3"
  },
  "language_info": {
   "codemirror_mode": {
    "name": "ipython",
    "version": 3
   },
   "file_extension": ".py",
   "mimetype": "text/x-python",
   "name": "python",
   "nbconvert_exporter": "python",
   "pygments_lexer": "ipython3",
   "version": "3.10.4"
  }
 },
 "nbformat": 4,
 "nbformat_minor": 2
}
