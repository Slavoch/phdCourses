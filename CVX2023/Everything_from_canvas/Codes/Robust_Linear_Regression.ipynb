{
  "nbformat": 4,
  "nbformat_minor": 0,
  "metadata": {
    "colab": {
      "provenance": []
    },
    "kernelspec": {
      "name": "python3",
      "display_name": "Python 3"
    },
    "language_info": {
      "name": "python"
    }
  },
  "cells": [
    {
      "cell_type": "markdown",
      "source": [
        "# Task 1\n",
        "Consider a subset of the MNIST hand-written images which consists of the first 1000 images for digits 0 and 2. Each image is of size 28 × 28, and is transformed by Gabor wavelets to extract features at different orientations and scales. This results in an array of size 28 × 28 × 8 × 4 for each image, or equivalently, a matrix F of size 784 × 32. Each column of F corresponds to a different view of the image.\n",
        "The goal of this assignment is to perform linear regression on the MNIST images, and classify them as either 0 or 2. The input variables are the features extracted by the Gabor wavelets, and the output variable is the label of the image."
      ],
      "metadata": {
        "id": "s33cWuEMkqxy"
      }
    },
    {
      "cell_type": "code",
      "source": [
        "import torch\n",
        "import torchvision.datasets as datasets\n",
        "from torchvision.transforms import ToTensor, Normalize\n",
        "import matplotlib.pyplot as plt\n",
        "import numpy as np\n",
        "from skimage.filters import gabor_kernel\n",
        "from scipy import ndimage as ndi\n",
        "from tqdm import tqdm\n",
        "\n",
        "# load dataset\n",
        "mnist_trainset = datasets.MNIST(root='./data', train=True, download=True, transform=Normalize((0.1307,), (0.3081,)))\n",
        "\n",
        "X = np.empty((0, 28, 28))\n",
        "y = np.empty(0)\n",
        "labels = [0, 2]\n",
        "\n",
        "# display dataset\n",
        "fig = plt.figure()\n",
        "for i in range(2):\n",
        "  plt.subplot(1,2,i+1)\n",
        "  plt.tight_layout()\n",
        "  plt.imshow(mnist_trainset.data[mnist_trainset.targets==labels[i]][0], cmap='gray', interpolation='none')\n",
        "  plt.title(f\"Class {labels[i]}\")\n",
        "  plt.xticks([])\n",
        "  plt.yticks([])\n",
        "plt.show()\n",
        "\n",
        "# filter labels and cut to 1000 samples\n",
        "labels = [0, 2]\n",
        "for label in labels:\n",
        "  idx = (mnist_trainset.targets==label)\n",
        "  y = np.append(y, mnist_trainset.targets[idx][:1000].numpy())\n",
        "  X = np.vstack((X, mnist_trainset.data[idx][:1000].numpy()))\n",
        "\n",
        "print('Shape of matrix X:', X.shape)\n",
        "print('Len of y:', len(y))\n",
        "\n",
        "# Gabor Transform\n",
        "frequencies = [.1, .2, .3, .4]\n",
        "thetas = np.arange(0, np.pi, np.pi / 8)\n",
        "\n",
        "def power(image, kernel):\n",
        "    # Normalize images for better comparison.\n",
        "    image = (image - image.mean()) / image.std()\n",
        "    return np.sqrt(ndi.convolve(image, np.real(kernel), mode='wrap')**2 +\n",
        "                   ndi.convolve(image, np.imag(kernel), mode='wrap')**2)\n",
        "\n",
        "X_gabor = np.empty((0, 28, 28, 8, 4))\n",
        "for x in tqdm(X):\n",
        "  x_gabor = np.empty((1, 28, 28, 8, 4))\n",
        "  for i, theta in enumerate(thetas):\n",
        "    for j, frequency in enumerate(frequencies):\n",
        "      kernel = gabor_kernel(frequency=frequency, theta=theta)\n",
        "      x_gabor[:,:,:,i,j] = power(x, kernel)\n",
        "  X_gabor = np.vstack((X_gabor, x_gabor))\n",
        "\n",
        "print('Shape of matrix X_gabor:', X_gabor.shape)\n",
        "\n",
        "ex_idx = 1500\n",
        "fig = plt.figure()\n",
        "plt.subplot(1,3,1)\n",
        "plt.imshow(X[ex_idx], cmap='gray', interpolation='none')\n",
        "plt.tight_layout()\n",
        "plt.xticks([])\n",
        "plt.yticks([])\n",
        "plt.title(f\"Original\")\n",
        "for i in range(1, 3):\n",
        "  plt.subplot(1,3,i+1)\n",
        "  plt.tight_layout()\n",
        "  plt.imshow(X_gabor[ex_idx][:,:, i, i], cmap='gray', interpolation='none')\n",
        "  plt.title(f\"Freq={frequencies[i]:.2f}, Theta={thetas[i]:.2f}\")\n",
        "  plt.xticks([])\n",
        "  plt.yticks([])\n",
        "plt.show()"
      ],
      "metadata": {
        "colab": {
          "base_uri": "https://localhost:8080/",
          "height": 961
        },
        "id": "h4FXvrI4kue2",
        "outputId": "d3c72f56-c6d1-409d-99bf-1ba6cce52721"
      },
      "execution_count": null,
      "outputs": [
        {
          "output_type": "stream",
          "name": "stdout",
          "text": [
            "Downloading http://yann.lecun.com/exdb/mnist/train-images-idx3-ubyte.gz\n",
            "Downloading http://yann.lecun.com/exdb/mnist/train-images-idx3-ubyte.gz to ./data/MNIST/raw/train-images-idx3-ubyte.gz\n"
          ]
        },
        {
          "output_type": "stream",
          "name": "stderr",
          "text": [
            "100%|██████████| 9912422/9912422 [00:00<00:00, 77431120.99it/s]\n"
          ]
        },
        {
          "output_type": "stream",
          "name": "stdout",
          "text": [
            "Extracting ./data/MNIST/raw/train-images-idx3-ubyte.gz to ./data/MNIST/raw\n",
            "\n",
            "Downloading http://yann.lecun.com/exdb/mnist/train-labels-idx1-ubyte.gz\n",
            "Downloading http://yann.lecun.com/exdb/mnist/train-labels-idx1-ubyte.gz to ./data/MNIST/raw/train-labels-idx1-ubyte.gz\n"
          ]
        },
        {
          "output_type": "stream",
          "name": "stderr",
          "text": [
            "100%|██████████| 28881/28881 [00:00<00:00, 57437503.00it/s]\n"
          ]
        },
        {
          "output_type": "stream",
          "name": "stdout",
          "text": [
            "Extracting ./data/MNIST/raw/train-labels-idx1-ubyte.gz to ./data/MNIST/raw\n",
            "\n",
            "Downloading http://yann.lecun.com/exdb/mnist/t10k-images-idx3-ubyte.gz\n",
            "Downloading http://yann.lecun.com/exdb/mnist/t10k-images-idx3-ubyte.gz to ./data/MNIST/raw/t10k-images-idx3-ubyte.gz\n"
          ]
        },
        {
          "output_type": "stream",
          "name": "stderr",
          "text": [
            "100%|██████████| 1648877/1648877 [00:00<00:00, 29572278.75it/s]\n"
          ]
        },
        {
          "output_type": "stream",
          "name": "stdout",
          "text": [
            "Extracting ./data/MNIST/raw/t10k-images-idx3-ubyte.gz to ./data/MNIST/raw\n",
            "\n",
            "Downloading http://yann.lecun.com/exdb/mnist/t10k-labels-idx1-ubyte.gz\n",
            "Downloading http://yann.lecun.com/exdb/mnist/t10k-labels-idx1-ubyte.gz to ./data/MNIST/raw/t10k-labels-idx1-ubyte.gz\n"
          ]
        },
        {
          "output_type": "stream",
          "name": "stderr",
          "text": [
            "100%|██████████| 4542/4542 [00:00<00:00, 1536085.21it/s]"
          ]
        },
        {
          "output_type": "stream",
          "name": "stdout",
          "text": [
            "Extracting ./data/MNIST/raw/t10k-labels-idx1-ubyte.gz to ./data/MNIST/raw\n",
            "\n"
          ]
        },
        {
          "output_type": "stream",
          "name": "stderr",
          "text": [
            "\n"
          ]
        },
        {
          "output_type": "display_data",
          "data": {
            "text/plain": [
              "<Figure size 640x480 with 2 Axes>"
            ],
            "image/png": "[encoded data removed]"
          },
          "metadata": {}
        },
        {
          "output_type": "stream",
          "name": "stdout",
          "text": [
            "Shape of matrix X: (2000, 28, 28)\n",
            "Len of y: 2000\n"
          ]
        },
        {
          "output_type": "stream",
          "name": "stderr",
          "text": [
            "100%|██████████| 2000/2000 [06:25<00:00,  5.19it/s]\n"
          ]
        },
        {
          "output_type": "stream",
          "name": "stdout",
          "text": [
            "Shape of matrix X_gabor: (2000, 28, 28, 8, 4)\n"
          ]
        },
        {
          "output_type": "display_data",
          "data": {
            "text/plain": [
              "<Figure size 640x480 with 3 Axes>"
            ],
            "image/png": "[encoded data removed]"
          },
          "metadata": {}
        }
      ]
    },
    {
      "cell_type": "markdown",
      "source": [
        "[link text](https://)#### Part 1: **Basic linear regression**\n",
        "\n",
        "Let $x_k$ be the $m$-th view features of the $k$-th image, i.e., the $m$-th column of $F_k$. Let $y_k$ be the label of the $k$-th image. Solve the following linear regression problem:\n",
        "$$\\min_{w} \\sum^K_{k=1} (y_k - x_k^Tw)^2$$\n",
        "where $K$ is the number of images in the subset. Report the classification accuracy for 10-fold cross-validation, where the subset is randomly divided into 10 equal parts, and each part is used as a test set once, while the remaining parts are used as a training set."
      ],
      "metadata": {
        "id": "W9WIgKOR1CAP"
      }
    },
    {
      "cell_type": "code",
      "source": [
        "import numpy as np\n",
        "from sklearn.discriminant_analysis import LinearDiscriminantAnalysis\n",
        "from sklearn.model_selection import StratifiedKFold\n",
        "\n",
        "numFolds = 10\n",
        "c = StratifiedKFold(n_splits=numFolds, shuffle=True, random_state=42) # use scikit-learn's StratifiedKFold for cross-validation\n",
        "\n"
      ],
      "metadata": {
        "id": "oEjOZlwSVg2S"
      },
      "execution_count": null,
      "outputs": []
    },
    {
      "cell_type": "code",
      "source": [
        "# For cross-validation\n",
        "def crossval_test(F, true_labels, fextr, c, verbose):\n",
        "  # StratifiedKFold for cross-validation\n",
        "  # F is the data matrix samples x feature length\n",
        "  # true_labels : array of true labels\n",
        "  # w = fextr(X,y) : train feature extraction y = X @ w\n",
        "\n",
        "  # initialize an empty list for performance array\n",
        "  perfAry = []\n",
        "  # initialize an array for predicted labels\n",
        "  YPredAry = np.zeros(len(true_labels))\n",
        "\n",
        "  # Crossvalidation\n",
        "  for kf, (trIdx, teIdx) in enumerate(c.split(F, true_labels)): # loop over the cross-validation folds\n",
        "\n",
        "    # get Train and Test data for this fold\n",
        "    xTrain = F[trIdx]\n",
        "    yTrain = true_labels[trIdx]\n",
        "    xTest = F[teIdx]\n",
        "    yTest = true_labels[teIdx]\n",
        "\n",
        "    w = fextr(xTrain, yTrain) # extract features from X\n",
        "\n",
        "    YtrPred = xTrain @ w # use @ operator for matrix multiplication\n",
        "    YtsPred = xTest @ w\n",
        "\n",
        "    # train a discriminant classifier\n",
        "    Mdl = LinearDiscriminantAnalysis() # use scikit-learn's LinearDiscriminantAnalysis for discriminant analysis\n",
        "    Mdl.fit(YtrPred.reshape(-1, 1), yTrain) # reshape YtrPred to a column vector\n",
        "\n",
        "    # get prediction\n",
        "    YPred = Mdl.predict(YtsPred.reshape(-1, 1)) # reshape YtsPred to a column vector\n",
        "    acc = np.mean(YPred == yTest) # calculate accuracy\n",
        "    YPredAry[teIdx] = YPred # assign predicted labels to the corresponding indices\n",
        "\n",
        "    perfAry.append(acc) # append accuracy to the performance array\n",
        "    if verbose!=0:\n",
        "      print(f'kf {kf+1}, acc {acc}') # print the fold number and accuracy\n",
        "\n",
        "  # return the performance array and the predicted labels array\n",
        "  return perfAry, YPredAry"
      ],
      "metadata": {
        "id": "vJqRFZgGXDph"
      },
      "execution_count": null,
      "outputs": []
    },
    {
      "cell_type": "code",
      "source": [
        "# view index\n",
        "m = 2\n",
        "X_gabor = X_gabor.reshape(2000, 28*28, 32)\n",
        "F = X_gabor[:,:,m]\n",
        "\n",
        "# remapping labels to -1 and 1\n",
        "true_labels = np.where(y==0, -1, 1)\n",
        "\n",
        "# Linear regression\n",
        "fextr = lambda X, y: np.linalg.lstsq(X, y, rcond=None)[0] # use numpy's lstsq function for linear least squares\n",
        "\n",
        "perfAry_ls, YPred_ls = crossval_test(F, true_labels, fextr, c,verbose = 1)"
      ],
      "metadata": {
        "colab": {
          "base_uri": "https://localhost:8080/"
        },
        "id": "NOU9OO16VooL",
        "outputId": "99e8ebc6-ed65-4ad7-ef49-bdcac016abf9"
      },
      "execution_count": null,
      "outputs": [
        {
          "output_type": "stream",
          "name": "stdout",
          "text": [
            "kf 1, acc 0.92\n",
            "kf 2, acc 0.92\n",
            "kf 3, acc 0.92\n",
            "kf 4, acc 0.93\n",
            "kf 5, acc 0.875\n",
            "kf 6, acc 0.925\n",
            "kf 7, acc 0.92\n",
            "kf 8, acc 0.9\n",
            "kf 9, acc 0.91\n",
            "kf 10, acc 0.93\n"
          ]
        }
      ]
    },
    {
      "cell_type": "code",
      "source": [
        "print(np.mean(perfAry_ls))"
      ],
      "metadata": {
        "colab": {
          "base_uri": "https://localhost:8080/"
        },
        "id": "cG3etoE4c4xQ",
        "outputId": "4465793a-415f-44d0-d4a2-f585bb613279"
      },
      "execution_count": null,
      "outputs": [
        {
          "output_type": "stream",
          "name": "stdout",
          "text": [
            "0.915\n"
          ]
        }
      ]
    },
    {
      "cell_type": "markdown",
      "source": [
        "**Check performance for all views**\n",
        "\n",
        "  "
      ],
      "metadata": {
        "id": "tC9-Q5rxeB7J"
      }
    },
    {
      "cell_type": "code",
      "source": [
        "numviews = X_gabor.shape[2]\n",
        "perfAry_ls_allviews = []\n",
        "fextr = lambda X, y: np.linalg.lstsq(X, y, rcond=None)[0] # use numpy's lstsq function for linear least squares\n",
        "\n",
        "for m in range(numviews):\n",
        "  F = X_gabor[:,:,m]\n",
        "\n",
        "  F = X_gabor[:,:,m]\n",
        "\n",
        "  # Linear regression\n",
        "  perfAry_ls_, YPred_ls_ = crossval_test(F, true_labels, fextr, c, verbose = 0)\n",
        "\n",
        "  perfAry_ls_allviews.append(np.mean(perfAry_ls_))\n",
        "\n",
        "print(f'Mean accuracy over 10-fold cross-validation: {np.mean(perfAry_ls_allviews):.2f}')\n"
      ],
      "metadata": {
        "colab": {
          "base_uri": "https://localhost:8080/"
        },
        "id": "qs_WY5CyeG-4",
        "outputId": "957b7d7f-fd97-489c-8965-9b2d7f561954"
      },
      "execution_count": null,
      "outputs": [
        {
          "output_type": "stream",
          "name": "stdout",
          "text": [
            "Mean accuracy over 10-fold cross-validation: 0.92\n"
          ]
        }
      ]
    },
    {
      "cell_type": "code",
      "source": [
        "plt.figure\n",
        "plt.plot(perfAry_ls_allviews)"
      ],
      "metadata": {
        "colab": {
          "base_uri": "https://localhost:8080/",
          "height": 447
        },
        "id": "UshQFVVniER3",
        "outputId": "4050e211-0489-45c3-dc9e-c5a9537f1656"
      },
      "execution_count": null,
      "outputs": [
        {
          "output_type": "execute_result",
          "data": {
            "text/plain": [
              "[<matplotlib.lines.Line2D at 0x7d101a984b20>]"
            ]
          },
          "metadata": {},
          "execution_count": 75
        },
        {
          "output_type": "display_data",
          "data": {
            "text/plain": [
              "<Figure size 640x480 with 1 Axes>"
            ],
            "image/png": "[encoded data removed]"
          },
          "metadata": {}
        }
      ]
    },
    {
      "cell_type": "markdown",
      "source": [
        "#### Part 2: **Robust linear regression**\n",
        "\n",
        "Consider a variant of linear regression in which the input variables $x_k$ are perturbed by some noise $e_k$ with $||e_k ||_2 ≤ δ$, where $δ$ is a given parameter. The noise $e_k$ represents the uncertainty or variability in the features extracted by the Gabor wavelets.\n",
        "The task is to seek a weight vector $w$ that minimizes the worst-case error due to the noise $e_k$, i.e.,\n",
        "$$\\min_w \\max_{e_k} \\sum^K_{k=1} (y_k - (x_k + e_k)^Tw)^2 \\\\\n",
        "\\text{subject to } ||e_k||^2_2 \\le \\delta, k=1,\\dots,K$$\n",
        "Simplify the above problem to an unconstrained optimization problem. Solve the simplified problem and report the classification accuracy for 10-fold cross-validation.\n",
        "\n",
        "Add Gaussian noise with zero mean and standard deviation of $0.01$ to $x_k$. Compare perform of the two linear regression methods for the noisy input data, $x_k$.\n",
        "Report classification accuracy for all views."
      ],
      "metadata": {
        "id": "d9-PG8y9MbyY"
      }
    },
    {
      "cell_type": "markdown",
      "source": [
        "Let's consider sub-problem:\n",
        "\\begin{align}\n",
        "\\max_e \\quad &\\frac{1}{2}(y-(x+e)^Tw)^2\\\\\n",
        "\\text{subject to } \\quad & ||e||^2_2 \\le \\delta\n",
        "\\end{align}\n",
        "Lagrangian associated to the problem\n",
        "\n",
        "\\begin{align}\n",
        "L &= \\frac{1}{2} (y-(x+e)^Tw)^2 + \\frac{\\lambda}{2} (||e||^2_2 - \\delta^2) \\\\\n",
        "&= \\frac{1}{2} (y-x^Tw - e^Tw)^2 + \\frac{\\lambda}{2}  (||e||^2_2 - \\delta^2)  \\\\\n",
        "&= \\frac{1}{2} (b -  w^Te)^2 + \\frac{\\lambda}{2}  (||e||^2_2 - \\delta^2)\n",
        "\\end{align}\n",
        "\n",
        "\n",
        "$$\\frac{\\partial L}{\\partial e} = -w(b-w^Te) + \\lambda e = -wb + ww^Te + \\lambda e = 0$$\n",
        "implying that $e^*$ and $w$ are parallel\n",
        " $$e^* = \\alpha w$$\n",
        "\n",
        "Taking into account that maximum of a convex function over a convex set is reached on the border of the convex set:\n",
        "$$||e^*||^2 = \\delta^2 \\Rightarrow |\\alpha| ||w|| = \\delta \\Rightarrow |\\alpha| = \\frac{\\delta}{||w||}$$\n",
        "$$e^* = \\pm \\delta \\frac{w}{||w||} = \\frac{tw}{||w||}, t = \\pm 1$$\n",
        "\n",
        "Substitute $e^*$ into the loss function and rewrite the maximization problem as\n",
        "\\begin{align}\n",
        "\\max f(w) &=\\frac{1}{2} (b-w^Te^*)^2 \\\\\n",
        "&= \\frac{1}{2}\\left(b - t\\delta \\frac{w^w}{||w||}\\right)^2\n",
        "\\end{align}\n",
        "The maximum achieves when $t^* = -sign(b)$\n",
        "and the optimal perturbed noise is given by\n",
        "$$e_k^* = -sign(y_k-w^Tx_k)\\delta \\frac{w}{||w||}$$\n",
        "\n",
        "Replacing $e_k^*$ in to the original problem we get\n",
        "\\begin{align}\n",
        "(y_k - (x_k + e_k^*)^Tw)^2 &= (y_k - (x_k-sign(y_k-w^Tx_k)\\delta \\frac{w}{||w||})^Tw)^2 \\\\\n",
        "&=(y_k - x_k^Tw + sign(y_k-w^Tx_k)\\delta ||w||)^2 \\\\\n",
        "&= (y_k - x_k^Tw)^2 + 2\\delta |y_k-w^Tx_k| ||w|| + \\delta^2 ||w||^2 \\\\\n",
        "&= (|y_k-w^Tx_k| + \\delta ||w||)^2\n",
        "\\end{align}\n",
        "\n",
        "Reformulating the original constrained problem to a new unconstrained problem:\n",
        "$$\\min_w \\sum^K_{k=1} (|y_k-x_k^Tw| + \\delta ||w||)^2$$"
      ],
      "metadata": {
        "id": "GXSafZgPYVkf"
      }
    },
    {
      "cell_type": "code",
      "source": [
        "def robust_linreg(F,b,delta):\n",
        "  lenw = F.shape[1]\n",
        "  numK = F.shape[0]\n",
        "\n",
        "  w = cp.Variable(lenw)\n",
        "  objective = cp.Minimize(cp.norm(b - F @ w, 1) + numK*delta*cp.norm(w, 2))\n",
        "  # objective = cp.Minimize(cp.sum_squares(cp.abs(b_train - F_train[:,:,m] @ w) + delta*cp.norm(w,2)))\n",
        "  prob = cp.Problem(objective)\n",
        "  prob.solve()\n",
        "\n",
        "  return w.value\n"
      ],
      "metadata": {
        "id": "T0DIRGGraRfr"
      },
      "execution_count": null,
      "outputs": []
    },
    {
      "cell_type": "markdown",
      "source": [
        "Robust Linear Regression"
      ],
      "metadata": {
        "id": "l9wKS18DeU17"
      }
    },
    {
      "cell_type": "code",
      "source": [
        "m = 2\n",
        "X_gabor = X_gabor.reshape(2000, 28*28, 32)\n",
        "F = X_gabor[:,:,m]\n",
        "\n",
        "# remapping labels to -1 and 1\n",
        "true_labels = np.where(y==0, -1, 1)\n",
        "delta = 0.01\n",
        "\n",
        "# Linear regression\n",
        "fextr = lambda X, y: robust_linreg(X, y,delta)\n",
        "\n",
        "perfAry_robustls, YPred_robustls = crossval_test(F, true_labels, fextr, c)"
      ],
      "metadata": {
        "colab": {
          "base_uri": "https://localhost:8080/"
        },
        "id": "2D_sS9KPaxvM",
        "outputId": "1260d3b5-64b6-40c4-eb3c-ceebe9c7f332"
      },
      "execution_count": null,
      "outputs": [
        {
          "output_type": "stream",
          "name": "stdout",
          "text": [
            "kf 1, acc 0.97\n",
            "kf 2, acc 0.975\n",
            "kf 3, acc 0.97\n",
            "kf 4, acc 0.985\n",
            "kf 5, acc 0.94\n",
            "kf 6, acc 0.98\n",
            "kf 7, acc 0.97\n",
            "kf 8, acc 0.945\n",
            "kf 9, acc 0.935\n",
            "kf 10, acc 0.965\n"
          ]
        }
      ]
    },
    {
      "cell_type": "code",
      "source": [
        "print(np.mean(perfAry_robustls))"
      ],
      "metadata": {
        "colab": {
          "base_uri": "https://localhost:8080/"
        },
        "id": "xA40NG_fdzmm",
        "outputId": "d9593061-17f6-4a9b-91eb-67e951230ef7"
      },
      "execution_count": null,
      "outputs": [
        {
          "output_type": "stream",
          "name": "stdout",
          "text": [
            "0.9635\n"
          ]
        }
      ]
    },
    {
      "cell_type": "code",
      "source": [
        "def robust_linreg2(F,b,delta):\n",
        "  lenw = F.shape[1]\n",
        "\n",
        "  w = cp.Variable(lenw)\n",
        "  objective = cp.Minimize(cp.sum(cp.square(cp.norm(b - F @ w, 1) + delta*cp.norm(w, 2))))\n",
        "  prob = cp.Problem(objective)\n",
        "  prob.solve()\n",
        "\n",
        "  return w.value"
      ],
      "metadata": {
        "id": "rN5hYsgHd_62"
      },
      "execution_count": null,
      "outputs": []
    },
    {
      "cell_type": "code",
      "source": [
        "m = 2\n",
        "X_gabor = X_gabor.reshape(2000, 28*28, 32)\n",
        "F = X_gabor[:,:,m]\n",
        "\n",
        "delta = .1\n",
        "\n",
        "# Linear regression\n",
        "fextr = lambda X, y: robust_linreg2(X, y,delta)\n",
        "\n",
        "perfAry_robustls2, YPred_robustls2 = crossval_test(F, true_labels, fextr, c)\n",
        "print(np.mean(perfAry_robustls2))"
      ],
      "metadata": {
        "colab": {
          "base_uri": "https://localhost:8080/"
        },
        "id": "o0noH-IPecUm",
        "outputId": "a1203754-1989-46af-8e3e-1ea10f97edfb"
      },
      "execution_count": null,
      "outputs": [
        {
          "output_type": "stream",
          "name": "stderr",
          "text": [
            "/usr/local/lib/python3.10/dist-packages/cvxpy/problems/problem.py:1387: UserWarning: Solution may be inaccurate. Try another solver, adjusting the solver settings, or solve with verbose=True for more information.\n",
            "  warnings.warn(\n"
          ]
        },
        {
          "output_type": "stream",
          "name": "stdout",
          "text": [
            "kf 1, acc 0.945\n"
          ]
        },
        {
          "output_type": "stream",
          "name": "stderr",
          "text": [
            "/usr/local/lib/python3.10/dist-packages/cvxpy/problems/problem.py:1387: UserWarning: Solution may be inaccurate. Try another solver, adjusting the solver settings, or solve with verbose=True for more information.\n",
            "  warnings.warn(\n"
          ]
        },
        {
          "output_type": "stream",
          "name": "stdout",
          "text": [
            "kf 2, acc 0.94\n"
          ]
        },
        {
          "output_type": "stream",
          "name": "stderr",
          "text": [
            "/usr/local/lib/python3.10/dist-packages/cvxpy/problems/problem.py:1387: UserWarning: Solution may be inaccurate. Try another solver, adjusting the solver settings, or solve with verbose=True for more information.\n",
            "  warnings.warn(\n"
          ]
        },
        {
          "output_type": "stream",
          "name": "stdout",
          "text": [
            "kf 3, acc 0.96\n"
          ]
        },
        {
          "output_type": "stream",
          "name": "stderr",
          "text": [
            "/usr/local/lib/python3.10/dist-packages/cvxpy/problems/problem.py:1387: UserWarning: Solution may be inaccurate. Try another solver, adjusting the solver settings, or solve with verbose=True for more information.\n",
            "  warnings.warn(\n"
          ]
        },
        {
          "output_type": "stream",
          "name": "stdout",
          "text": [
            "kf 4, acc 0.93\n"
          ]
        },
        {
          "output_type": "stream",
          "name": "stderr",
          "text": [
            "/usr/local/lib/python3.10/dist-packages/cvxpy/problems/problem.py:1387: UserWarning: Solution may be inaccurate. Try another solver, adjusting the solver settings, or solve with verbose=True for more information.\n",
            "  warnings.warn(\n"
          ]
        },
        {
          "output_type": "stream",
          "name": "stdout",
          "text": [
            "kf 5, acc 0.905\n"
          ]
        },
        {
          "output_type": "stream",
          "name": "stderr",
          "text": [
            "/usr/local/lib/python3.10/dist-packages/cvxpy/problems/problem.py:1387: UserWarning: Solution may be inaccurate. Try another solver, adjusting the solver settings, or solve with verbose=True for more information.\n",
            "  warnings.warn(\n"
          ]
        },
        {
          "output_type": "stream",
          "name": "stdout",
          "text": [
            "kf 6, acc 0.94\n"
          ]
        },
        {
          "output_type": "stream",
          "name": "stderr",
          "text": [
            "/usr/local/lib/python3.10/dist-packages/cvxpy/problems/problem.py:1387: UserWarning: Solution may be inaccurate. Try another solver, adjusting the solver settings, or solve with verbose=True for more information.\n",
            "  warnings.warn(\n"
          ]
        },
        {
          "output_type": "stream",
          "name": "stdout",
          "text": [
            "kf 7, acc 0.92\n"
          ]
        },
        {
          "output_type": "stream",
          "name": "stderr",
          "text": [
            "/usr/local/lib/python3.10/dist-packages/cvxpy/problems/problem.py:1387: UserWarning: Solution may be inaccurate. Try another solver, adjusting the solver settings, or solve with verbose=True for more information.\n",
            "  warnings.warn(\n"
          ]
        },
        {
          "output_type": "stream",
          "name": "stdout",
          "text": [
            "kf 8, acc 0.905\n"
          ]
        },
        {
          "output_type": "stream",
          "name": "stderr",
          "text": [
            "/usr/local/lib/python3.10/dist-packages/cvxpy/problems/problem.py:1387: UserWarning: Solution may be inaccurate. Try another solver, adjusting the solver settings, or solve with verbose=True for more information.\n",
            "  warnings.warn(\n"
          ]
        },
        {
          "output_type": "stream",
          "name": "stdout",
          "text": [
            "kf 9, acc 0.945\n",
            "kf 10, acc 0.945\n",
            "0.9335000000000001\n"
          ]
        },
        {
          "output_type": "stream",
          "name": "stderr",
          "text": [
            "/usr/local/lib/python3.10/dist-packages/cvxpy/problems/problem.py:1387: UserWarning: Solution may be inaccurate. Try another solver, adjusting the solver settings, or solve with verbose=True for more information.\n",
            "  warnings.warn(\n"
          ]
        }
      ]
    },
    {
      "cell_type": "code",
      "source": [
        "print(np.mean(perfAry_robustls2))"
      ],
      "metadata": {
        "colab": {
          "base_uri": "https://localhost:8080/"
        },
        "id": "dN9kOe_jjCMI",
        "outputId": "4a1443ef-a0fe-44aa-c359-6d55fac59dae"
      },
      "execution_count": null,
      "outputs": [
        {
          "output_type": "stream",
          "name": "stdout",
          "text": [
            "0.9335000000000001\n"
          ]
        }
      ]
    },
    {
      "cell_type": "markdown",
      "source": [
        "**Check Robust LinReg for All Views**"
      ],
      "metadata": {
        "id": "21Xycbl2i2oN"
      }
    },
    {
      "cell_type": "code",
      "source": [
        "perfAry_robustls_allviews = []\n",
        "fextr = lambda X, y: robust_linreg(X, y,delta)\n",
        "\n",
        "\n",
        "d = 0.01\n",
        "\n",
        "for m in range(numviews):\n",
        "\n",
        "  F = X_gabor[:,:,m]\n",
        "\n",
        "  # Linear regression\n",
        "  perfAry_robustls_, YPred_robustls_ = crossval_test(F, true_labels, fextr, c, verbose = 0)\n",
        "\n",
        "  perfAry_robustls_allviews.append(np.mean(perfAry_robustls_))\n",
        "  print(f'Mean accuracy over 10-fold cross-validation: {np.mean(perfAry_robustls_):.2f}')\n",
        "\n",
        "\n",
        "print(f'Mean accuracy over 10-fold cross-validation: {np.mean(perfAry_robustls_allviews):.2f}')\n"
      ],
      "metadata": {
        "colab": {
          "base_uri": "https://localhost:8080/"
        },
        "id": "jynV0oU1i1lt",
        "outputId": "65c84b63-32b6-462b-80fd-03d0b6680591"
      },
      "execution_count": null,
      "outputs": [
        {
          "output_type": "stream",
          "name": "stdout",
          "text": [
            "Mean accuracy over 10-fold cross-validation: 0.96\n",
            "Mean accuracy over 10-fold cross-validation: 0.97\n",
            "Mean accuracy over 10-fold cross-validation: 0.96\n",
            "Mean accuracy over 10-fold cross-validation: 0.96\n",
            "Mean accuracy over 10-fold cross-validation: 0.98\n",
            "Mean accuracy over 10-fold cross-validation: 0.97\n",
            "Mean accuracy over 10-fold cross-validation: 0.96\n",
            "Mean accuracy over 10-fold cross-validation: 0.97\n",
            "Mean accuracy over 10-fold cross-validation: 0.97\n",
            "Mean accuracy over 10-fold cross-validation: 0.96\n",
            "Mean accuracy over 10-fold cross-validation: 0.96\n",
            "Mean accuracy over 10-fold cross-validation: 0.96\n",
            "Mean accuracy over 10-fold cross-validation: 0.97\n",
            "Mean accuracy over 10-fold cross-validation: 0.94\n",
            "Mean accuracy over 10-fold cross-validation: 0.94\n",
            "Mean accuracy over 10-fold cross-validation: 0.94\n",
            "Mean accuracy over 10-fold cross-validation: 0.96\n",
            "Mean accuracy over 10-fold cross-validation: 0.94\n",
            "Mean accuracy over 10-fold cross-validation: 0.94\n",
            "Mean accuracy over 10-fold cross-validation: 0.94\n",
            "Mean accuracy over 10-fold cross-validation: 0.96\n",
            "Mean accuracy over 10-fold cross-validation: 0.96\n",
            "Mean accuracy over 10-fold cross-validation: 0.94\n",
            "Mean accuracy over 10-fold cross-validation: 0.95\n",
            "Mean accuracy over 10-fold cross-validation: 0.97\n",
            "Mean accuracy over 10-fold cross-validation: 0.96\n",
            "Mean accuracy over 10-fold cross-validation: 0.96\n",
            "Mean accuracy over 10-fold cross-validation: 0.95\n",
            "Mean accuracy over 10-fold cross-validation: 0.96\n",
            "Mean accuracy over 10-fold cross-validation: 0.96\n",
            "Mean accuracy over 10-fold cross-validation: 0.95\n",
            "Mean accuracy over 10-fold cross-validation: 0.96\n",
            "Mean accuracy over 10-fold cross-validation: 0.96\n"
          ]
        }
      ]
    },
    {
      "cell_type": "code",
      "source": [
        "import matplotlib.pyplot as plt\n",
        "plt.figure\n",
        "plt.plot(perfAry_robustls_allviews)\n",
        "plt.plot(perfAry_ls_allviews)\n"
      ],
      "metadata": {
        "id": "mimHQl2lrj5P"
      },
      "execution_count": null,
      "outputs": []
    },
    {
      "cell_type": "markdown",
      "source": [
        "**PART 2: Noisy feature Inputs**\n",
        "\n"
      ],
      "metadata": {
        "id": "IMVKeAu8evT2"
      }
    },
    {
      "cell_type": "code",
      "source": [
        "# add noise\n",
        "delta = 1;\n",
        "m = 2\n",
        "F = X_gabor[:,:,m]\n",
        "N = np.random.normal(loc=.0, scale=1, size=(F.shape))\n",
        "\n",
        "# calculate the norm of each row of noise components\n",
        "row_norms = np.linalg.norm (N, ord=2, axis=1, keepdims=True)\n",
        "\n",
        "# create a diagonal matrix from the inverse of the row norms\n",
        "D = np.diag (np.reciprocal (row_norms).ravel ())\n",
        "\n",
        "# scale each row of E to have a unit norm\n",
        "N = np.matmul (D, N)\n",
        "\n",
        "F = F + delta * N\n"
      ],
      "metadata": {
        "id": "DaYF3_3MFP1a"
      },
      "execution_count": null,
      "outputs": []
    },
    {
      "cell_type": "code",
      "source": [
        "# Linear regression\n",
        "fextr = lambda X, y: np.linalg.lstsq(X, y, rcond=None)[0] # use numpy's lstsq function for linear least squares\n",
        "\n",
        "perfAry_lsnoise, YPred_lsnoise = crossval_test(F, true_labels, fextr, c)\n",
        "print(f'Mean accuracy over 10-fold cross-validation: {np.mean(perfAry_lsnoise):.2f}')\n"
      ],
      "metadata": {
        "colab": {
          "base_uri": "https://localhost:8080/"
        },
        "id": "H6eRnxGhDyNx",
        "outputId": "49a99d85-de0b-4296-ad55-5e00da48b308"
      },
      "execution_count": null,
      "outputs": [
        {
          "output_type": "stream",
          "name": "stdout",
          "text": [
            "kf 1, acc 0.875\n",
            "kf 2, acc 0.91\n",
            "kf 3, acc 0.935\n",
            "kf 4, acc 0.895\n",
            "kf 5, acc 0.89\n",
            "kf 6, acc 0.885\n",
            "kf 7, acc 0.89\n",
            "kf 8, acc 0.935\n",
            "kf 9, acc 0.92\n",
            "kf 10, acc 0.905\n",
            "Mean accuracy over 10-fold cross-validation: 0.90\n"
          ]
        }
      ]
    },
    {
      "cell_type": "code",
      "source": [
        "delta = 0.01\n",
        "\n",
        "# Linear regression\n",
        "fextr = lambda X, y: robust_linreg(X, y,delta)\n",
        "\n",
        "perfAry_robustlsnoise, YPred_robustlsnoise = crossval_test(F, true_labels, fextr, c)"
      ],
      "metadata": {
        "colab": {
          "base_uri": "https://localhost:8080/"
        },
        "id": "V1ync1EMkaVT",
        "outputId": "1621a389-8821-4454-e112-9e19bb717e33"
      },
      "execution_count": null,
      "outputs": [
        {
          "output_type": "stream",
          "name": "stdout",
          "text": [
            "kf 1, acc 0.93\n",
            "kf 2, acc 0.93\n",
            "kf 3, acc 0.935\n",
            "kf 4, acc 0.98\n",
            "kf 5, acc 0.92\n",
            "kf 6, acc 0.95\n",
            "kf 7, acc 0.945\n",
            "kf 8, acc 0.925\n",
            "kf 9, acc 0.935\n",
            "kf 10, acc 0.94\n"
          ]
        }
      ]
    },
    {
      "cell_type": "code",
      "source": [
        "print(f'Mean accuracy over 10-fold cross-validation: {np.mean(perfAry_robustlsnoise):.2f}')\n"
      ],
      "metadata": {
        "colab": {
          "base_uri": "https://localhost:8080/"
        },
        "id": "LviigE_kbOyS",
        "outputId": "6cd9bf51-f802-4848-c9fc-dfe52334d4ad"
      },
      "execution_count": null,
      "outputs": [
        {
          "output_type": "stream",
          "name": "stdout",
          "text": [
            "Mean accuracy over 10-fold cross-validation: 0.94\n"
          ]
        }
      ]
    }
  ]
}