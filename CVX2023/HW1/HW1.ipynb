{
 "cells": [
  {
   "cell_type": "markdown",
   "metadata": {},
   "source": [
    "# 1. (7 points)\n",
    "Suppose we have a set of data points $X = \\{x_1, . . . , x_m\\}$ in $R^n$\n"
   ]
  },
  {
   "cell_type": "markdown",
   "metadata": {},
   "source": [
    "## (a) (2 points) \n",
    "Let $x_c$ be the centroid of $X$, i.e., the average of all the data points.\n",
    "We want to find the point $y$ in the convex hull $H$ of $X$ that is farthest from $x_c$.\n",
    "Formulate the optimization problem to find $y$ and prove that it is a convex optimization problem.\n",
    "\n",
    "Prove that the optimal solution is a vertex of the convex hull H."
   ]
  },
  {
   "cell_type": "markdown",
   "metadata": {},
   "source": [
    "problem \n",
    "\n",
    "$$ max ||y-x_c|| = max f(y)$$\n",
    "$$s.t.  y \\in H$$\n",
    "\n",
    "Choose any point $v$ in $H$ i.e. $v = \\sum_{i=1}^m{\\lambda_i x_i}$\n",
    "$| \\sum_i \\lambda_i = 1$\n",
    "\n",
    "$f(v) = f(\\sum_{i=1}^m{\\lambda_i * x_i}) \\leq  \\sum_{i=1}^m \\lambda_i f({ x_i}) \\leq \\sum_{i=1}^m \\lambda_i max f({ x_i})= \\sum_{i=1}^m \\lambda_i f(x^*) = f(x^*)$\n",
    "\n",
    "$f(v) \\leq f(x^*)$ where $x^*$ is one of the points $x_i$ that is the one of the vertex in $H$. => $f$ reaches the maximum at one of the vertexes of $H$.\n"
   ]
  },
  {
   "cell_type": "markdown",
   "metadata": {},
   "source": [
    "## (b) (1 point)\n",
    "Let u be a vector that is orthogonal to $(y − x_c)$, where $y$ is the optimal solution from (a).\n",
    "We want to find the point x in the convex hull H that maximizes the inner product $(x − x_c)^T u$\n",
    "\n",
    "Formulate the optimization problem to find $x$ and prove that the optimal solution is another vertex of the convex hull $H$."
   ]
  },
  {
   "cell_type": "markdown",
   "metadata": {},
   "source": [
    "problem  \n",
    "$$ max f(x) = max (x-x_c)^T u$$\n",
    "$$ s.t. x \\in H$$\n",
    "$$(y-x_c)^T u = 0$$\n",
    "\n",
    "Similarly (a) using Jensen's inequality: $f(x) \\leq f(x^*)$ where $x^*$ is one of the vertex of $H$.\n",
    "As far as $f(x_c)=f(y) =0$ => f cannot reach the maxima on the vertex $y$ because in this case f would reach maxima on $x_c$ which is not the vertex - contradiction. => f reaches maxima on one of the vertexes $\\{x_i\\} / y$."
   ]
  },
  {
   "cell_type": "markdown",
   "metadata": {},
   "source": [
    "## (c)(2 points)\n",
    "Let $E_x = \\{x ∈ R^n: (x − c)^T Q(x − c) ≤ n\\}$ be the ellipsoid with the smallest volume that contains all the points in X.\n",
    "\n",
    "Formulate the optimization problem to find Ex, and prove that the convex hull H of\n",
    "X is contained in E."
   ]
  },
  {
   "cell_type": "markdown",
   "metadata": {},
   "source": [
    "problem:\n",
    "\n",
    "volume of ellipsoid $\\sqrt{det(Q^{-1})}*vol(B(0,r)) \\approx \\sqrt{det(Q^{-1})}r^n$\n",
    "$$\\min \\sqrt{det(Q^{-1})}r^n$$\n",
    "$$s.t. (x_i − c)^T Q(x_i − c) \\leq n $$\n",
    "\n",
    "or \n",
    "$$\\min \\log(\\sqrt{det(Q^{-1})}r^n)$$\n",
    "$$s.t. (x_i − c)^T Q(x_i − c) \\leq n $$\n",
    "\n",
    "as far as hessian of $(x − c)^T Q(x − c)$ is $Q > 0$ => it is convex function and sublevel set of a convex function is convex => all points in $H \\in E_x$"
   ]
  },
  {
   "cell_type": "markdown",
   "metadata": {},
   "source": [
    "## (d)(1 point) \n",
    "Define $z_k = [x_k, 1]^T$, and $E_z = \\{z ∈ R_{n+1}: z^T Pz ≤ n + 1\\}$ the ellipsoid with smallest volume which contains all $z_k$.\n",
    "Prove that\n",
    "$$R= \n",
    "\\begin{array}{|c|c|}\n",
    "  Q & -Qc \\\\ \n",
    "  -(Qc)^T & 1+c^TQc \\\\ \n",
    "\\end{array}\n",
    "$$"
   ]
  },
  {
   "cell_type": "markdown",
   "metadata": {},
   "source": [
    "$$\n",
    "\\begin{align*}\n",
    "z_k^T R z & = [x_k^T Q - (Qc)^T| -x^TQc + c^TQc +1]z =\\\\\n",
    "& = x_k^TQx_k - (Qc)^Tx_k -x^TQc + c^TQc +1 = \\\\\n",
    "& = (x_k^T - c^T)Q(x_k +c)+1\n",
    "\\end{align*}\n",
    "$$\n",
    "\n",
    "$$\n",
    "\\begin{align*}\n",
    "& z_k^T R z \\leq n +1\\\\\n",
    "& (x_k^T - c^T)Q(x_k +c)+1\\leq n+1 \\\\\n",
    "& (x_k - c)^TQ(x_k +c)\\leq n\n",
    "\n",
    "\\end{align*}\n",
    "$$"
   ]
  },
  {
   "cell_type": "markdown",
   "metadata": {},
   "source": [
    "## (e)\n",
    "Show an example to illustrate finding the ellipsoid Ex from Ez."
   ]
  },
  {
   "cell_type": "markdown",
   "metadata": {},
   "source": [
    "$$R= \n",
    "\\begin{bmatrix}\n",
    "R_{11} & R_{12}\\\\\n",
    "R_{21} & R_{12}\n",
    "\\end{bmatrix}\\\\\n",
    "\\begin{align*}\\\\\n",
    "R_{11}  &= Q\\\\\n",
    "R_{12}  &= R_{21}^T = -Qc\\\\\n",
    "R_{22}  &= 1 + c^TQc\\\\\\\\\n",
    "\n",
    "Q &= R_{11}\\\\\n",
    "c &= Q^{-1}Qc= -R_{11}^{-1} R_{12}\\\\\n",
    "\\end{align*}\n",
    "$$\n"
   ]
  },
  {
   "cell_type": "code",
   "execution_count": 30,
   "metadata": {},
   "outputs": [],
   "source": [
    "import numpy as np\n",
    "import matplotlib.pyplot as plt\n",
    "\n",
    "N = 3\n",
    "R = np.random.rand(N, N)\n",
    "R = (R + R.T) / 2\n",
    "\n",
    "Q = R[: N - 1, : N - 1]\n",
    "c = -np.linalg.inv(Q) @ R[: N - 1, -1]"
   ]
  },
  {
   "cell_type": "code",
   "execution_count": 31,
   "metadata": {},
   "outputs": [
    {
     "data": {
      "image/png": "[encoded data removed]",
      "text/plain": [
       "<Figure size 432x288 with 1 Axes>"
      ]
     },
     "metadata": {
      "needs_background": "light"
     },
     "output_type": "display_data"
    }
   ],
   "source": [
    "r = 1\n",
    "X = np.linspace(-10, 10, 100)\n",
    "Y = np.linspace(-10, 10, 100)\n",
    "X, Y = np.meshgrid(X, Y)\n",
    "is_inside = np.zeros_like(X)\n",
    "\n",
    "for i in range(X.shape[0]):\n",
    "    for j in range(Y.shape[0]):\n",
    "        z = np.array([X[i, j], Y[i, j]])\n",
    "        is_inside[i, j] = (z - c).T @ Q @ (z - c) < r\n",
    "plt.title(\"example E_x\")\n",
    "plt.imshow(is_inside, extent=[-10, 10, -10, 10])\n",
    "plt.show()"
   ]
  },
  {
   "cell_type": "markdown",
   "metadata": {},
   "source": [
    "# 2\n",
    "Derive optimality conditions and analytical solution (if it exists) of the following optimization problems, solve them. Demonstrate the problem and compare the results with those obtained by CVX or CVXpy.\n"
   ]
  },
  {
   "cell_type": "markdown",
   "metadata": {},
   "source": [
    "$ b ∈ R^n$ is vectorization of an image corrupted by Gaussian noise, A is of size $n × m, m > n, x ∈ R^m$.\n",
    "$A$ can be concatenation of discrete cosine transform matrix and wavelets\n",
    "transform operators.\n"
   ]
  },
  {
   "cell_type": "code",
   "execution_count": 3,
   "metadata": {},
   "outputs": [
    {
     "data": {
      "text/plain": [
       "<matplotlib.image.AxesImage at 0x1f73acd64a0>"
      ]
     },
     "execution_count": 3,
     "metadata": {},
     "output_type": "execute_result"
    },
    {
     "data": {
      "image/png": "[encoded data removed]",
      "text/plain": [
       "<Figure size 432x288 with 1 Axes>"
      ]
     },
     "metadata": {
      "needs_background": "light"
     },
     "output_type": "display_data"
    }
   ],
   "source": [
    "from PIL import Image\n",
    "import requests\n",
    "from io import BytesIO\n",
    "import matplotlib.pyplot as plt\n",
    "import numpy as np\n",
    "\n",
    "response = requests.get(\"https://leafy.id/wp-content/uploads/2019/12/p9.jpg\")\n",
    "img = Image.open(BytesIO(response.content)).convert(\"L\")\n",
    "size = (32, 28)\n",
    "img_resized = img.resize(size, Image.Resampling.LANCZOS)\n",
    "image = np.array(img_resized)\n",
    "y = image.flatten()\n",
    "noize = np.abs(np.random.randn(y.shape[0])) * 10\n",
    "b = (y + noize) / 255\n",
    "# b = y / 255\n",
    "plt.imshow(b.reshape(image.shape), cmap=\"gray\")"
   ]
  },
  {
   "cell_type": "markdown",
   "metadata": {},
   "source": [
    "## (a)\n",
    "$$\n",
    "\\begin{align*}\n",
    "& \\min_x \\quad ||x-b||_2^2 \\quad x \\geq 0, 1^T x =1 \\\\\n",
    "& \\mathcal{L} = \\frac{1}{2}||x − b||_2^2 + \\lambda^Tx + \\gamma (1^T x - 1) \\quad s.t. \\lambda_ix_i=0\\\\\n",
    "& \\frac{\\partial\\mathcal{L}}{\\partial x} = (x-b) +\\lambda + \\gamma 1 = 0\\\\\\\\\n",
    "& \\text{if $\\lambda_i$ = 0 =>}x-b + \\gamma 1 = 0 => x^* = b-\\mathbf{1\\gamma}\\\\\n",
    "& \\mathbf{1^T}x^* = \\mathbf{1^T}b-\\mathbf{1^T}\\mathbf{1\\gamma} = 1\\\\\n",
    "& \\gamma = \\frac{\\mathbf{1^T}b -1}{count(x_i>0)}\\\\\\\\\n",
    "& \\text{if $\\lambda_i \\neq 0$ => }x_i =0\\\\\n",
    "& x_i = \n",
    "\\begin{matrix}\n",
    "b- \\frac{\\mathbf{1^T}b -1}{count(x_i>0)}& \\text{if $x_i >0$} \\\\\n",
    "0 & \\text{else}\n",
    "\\end{matrix}\n",
    "\\end{align*}\\\\\n",
    "$$\n",
    "\n"
   ]
  },
  {
   "cell_type": "code",
   "execution_count": 4,
   "metadata": {},
   "outputs": [
    {
     "data": {
      "image/png": "[encoded data removed]",
      "text/plain": [
       "<Figure size 432x288 with 1 Axes>"
      ]
     },
     "metadata": {
      "needs_background": "light"
     },
     "output_type": "display_data"
    }
   ],
   "source": [
    "x_star = np.ones_like(b)\n",
    "for i in range(10):\n",
    "    ones = np.ones(sum(x_star > 0))\n",
    "    x_star[x_star > 0] = b[x_star > 0] + ones * (1 - ones.T @ b[x_star > 0]) / sum(ones)\n",
    "    if (x_star < 0).any():\n",
    "        x_star[x_star < 0] = 0\n",
    "    else:\n",
    "        break\n",
    "plt.title(\"my solution\")\n",
    "plt.imshow(x_star.reshape(image.shape))\n",
    "plt.show()"
   ]
  },
  {
   "cell_type": "code",
   "execution_count": 5,
   "metadata": {},
   "outputs": [
    {
     "name": "stderr",
     "output_type": "stream",
     "text": [
      "c:\\Users\\Slava\\AppData\\Local\\Programs\\Python\\Python310\\lib\\site-packages\\scipy\\__init__.py:146: UserWarning: A NumPy version >=1.17.3 and <1.25.0 is required for this version of SciPy (detected version 1.26.2\n",
      "  warnings.warn(f\"A NumPy version >={np_minversion} and <{np_maxversion}\"\n"
     ]
    },
    {
     "name": "stdout",
     "output_type": "stream",
     "text": [
      "comperison of solutions max(x^* - x_cvx)= 0.0003038433837581067\n"
     ]
    },
    {
     "data": {
      "image/png": "[encoded data removed]",
      "text/plain": [
       "<Figure size 432x288 with 1 Axes>"
      ]
     },
     "metadata": {
      "needs_background": "light"
     },
     "output_type": "display_data"
    }
   ],
   "source": [
    "import cvxpy as cp\n",
    "\n",
    "x = cp.Variable(b.shape[0])\n",
    "objective = cp.Minimize(cp.sum_squares(x - b))\n",
    "constraints = [0 <= x, np.ones_like(b) @ x == 1]\n",
    "prob = cp.Problem(objective, constraints)\n",
    "result = prob.solve()\n",
    "print(f\"comperison of solutions max(x^* - x_cvx)= {max(abs(x.value-x_star))}\")\n",
    "plt.title(\"CVX\")\n",
    "plt.imshow(x.value.reshape(image.shape))\n",
    "plt.show()"
   ]
  },
  {
   "cell_type": "markdown",
   "metadata": {},
   "source": [
    "## (b)\n",
    "$$\n",
    "\\begin{align*}\n",
    "& \\min_x \\quad ||x-b||_2^2 \\quad x \\geq 0, ||x||_\\infty \\leq1 \\\\\n",
    "\n",
    "& \\min_x ||x-b||_2^2 = \\min_x \\sum{(x_i-b_i)^2}=\\sum{\\min_{x_i} (x_i-b_i)^2}\\\\\n",
    "& \\min_x ||x-b||_2^2 \\text{ equivalent to }\\min_{x_i} (x_i-b_i)^2 \\text{ for all $i$}\\\\\n",
    "\n",
    "& \\text{$f(x_i)$ reaches minima on $x_i = b_i$, but $\\max(x) \\leq 1$ =>}\\\\\n",
    "& x_i = \\min(b_i,1)\\\\\n",
    "& \\text{as far as $b_i \\geq 0 => x_i \\geq 0$ is always satisfied}\\\\\n",
    "& \\text{but in general } x_i = \\min(\\max(b_i,0),1)\\\\\n",
    "\\end{align*}\\\\\n",
    "$$\n"
   ]
  },
  {
   "cell_type": "code",
   "execution_count": 6,
   "metadata": {},
   "outputs": [
    {
     "data": {
      "image/png": "[encoded data removed]",
      "text/plain": [
       "<Figure size 432x288 with 1 Axes>"
      ]
     },
     "metadata": {
      "needs_background": "light"
     },
     "output_type": "display_data"
    }
   ],
   "source": [
    "ones = np.ones_like(b)\n",
    "x_star = np.array([min(1, b_i) for b_i in b])\n",
    "plt.title(\"my solution\")\n",
    "plt.imshow(x_star.reshape(image.shape))\n",
    "plt.show()"
   ]
  },
  {
   "cell_type": "code",
   "execution_count": 7,
   "metadata": {},
   "outputs": [
    {
     "name": "stdout",
     "output_type": "stream",
     "text": [
      "comperison of solutions max(x^* - x_cvx)= 8.195022338508551e-08\n"
     ]
    },
    {
     "data": {
      "image/png": "[encoded data removed]",
      "text/plain": [
       "<Figure size 432x288 with 1 Axes>"
      ]
     },
     "metadata": {
      "needs_background": "light"
     },
     "output_type": "display_data"
    }
   ],
   "source": [
    "x = cp.Variable(b.shape[0])\n",
    "objective = cp.Minimize(cp.sum_squares(x - b))\n",
    "constraints = [0 <= x, cp.norm(x, \"inf\") <= 1]\n",
    "prob = cp.Problem(objective, constraints)\n",
    "result = prob.solve(solver=cp.ECOS)\n",
    "print(f\"comperison of solutions max(x^* - x_cvx)= {max(abs(x.value-x_star))}\")\n",
    "plt.title(\"CVX\")\n",
    "plt.imshow(x.value.reshape(image.shape))\n",
    "plt.show()"
   ]
  },
  {
   "cell_type": "markdown",
   "metadata": {},
   "source": [
    "## (c)\n",
    "$$\n",
    "\\begin{align*}\n",
    "& \\min_x \\quad ||b - Ax||_2^2 \\quad \\text{s.t.} \\quad ||x||^2_2 \\leq 1 \\\\\n",
    "& \\mathcal{L} =  \\frac{1}{2}||b - Ax||_2^2 + \\frac{1}{2}\\lambda (||x||^2_2 - 1)\\\\\n",
    "& \\frac{\\partial\\mathcal{L}}{\\partial x} = A^T(Ax-b) + \\lambda x = 0\\\\\n",
    "& \\text{By complementary slackness if $\\lambda = 0 => ||x||^2_2 < 1$} \\\\\n",
    "& x^* = (A^TA)^{-1}A^Tb \\quad \\text{if $||x^*||^2_2 < 1$}\\\\\n",
    "& \\text{By complementary slackness if $\\lambda \\neq 0 => ||x||^2_2 = 1$} \\\\\n",
    "& x^* = (A^TA + \\lambda I)^{-1}A^Tb \\quad \\text{if $||x^*||^2_2 = 1$}\\\\\n",
    "& x^Tx =b^TA(A^TA + \\lambda I)^{-1}(A^TA + \\lambda I)^{-1}A^Tb = \\\\\n",
    "& A = U\\Lambda V^T\\\\\n",
    "& (A^TA + \\lambda I)^{-1} = (V \\Lambda U^T U\\Lambda V^T +\\lambda I)^{-1}=\\\\\n",
    "& \\quad = (V(\\Lambda^2+\\lambda I)V^T)^{-1} = V(\\Lambda^2+\\lambda I)^{-1}V^T =\\\\\n",
    "& \\quad = VQV^T = V diag(\\frac{1}{\\sigma_i^2 + \\lambda})V^T\\\\\n",
    "& x^Tx =b^TU\\Lambda V^TVQV^TVQV^TV\\Lambda U^Tb = b^TU\\Lambda QQ\\Lambda U^Tb\\\\\n",
    "& z = U^Tb\\\\\n",
    "& x^Tx = z^T \\Lambda QQ\\Lambda z = \\sum \\frac{\\sigma_i^2 z_i^2}{(\\sigma_i^2 + \\lambda)^2} = 1\\\\\n",
    "& \\text{I couldn't find $\\lambda$ analiticaly and did numerically}\\\\\n",
    "& x^* = (A^TA + \\lambda I)^{-1}A^Tb \\quad \\text{for} \\quad \\sum\\frac{\\sigma_i^2 z_i^2}{(\\sigma_i^2 + \\lambda)^2} = 1\\\\\n",
    "& x^* = (A^TA)^{-1}A^Tb \\quad \\text{if $||x^*||^2_2 < 1$}\\\\\n",
    "\\end{align*}\\\\\n",
    "$$"
   ]
  },
  {
   "cell_type": "code",
   "execution_count": 8,
   "metadata": {},
   "outputs": [],
   "source": [
    "n = 10\n",
    "A = np.random.random((b.shape[0], n)) / 10"
   ]
  },
  {
   "cell_type": "code",
   "execution_count": 9,
   "metadata": {},
   "outputs": [
    {
     "name": "stdout",
     "output_type": "stream",
     "text": [
      "31.920053869675883 [346.47246925]\n",
      "0.12461649501584124 [138.22103949]\n",
      "0.654126052620688 [95.77551898]\n",
      "1.2047652184872895 [114.40398983]\n",
      "0.90039710453595 [103.91205126]\n",
      "1.0553262136531176 [109.2970439]\n",
      "0.9712111626789581 [106.3759074]\n",
      "1.0155368586871647 [107.91764714]\n",
      "0.9917728727367306 [107.09153146]\n",
      "1.004401389813731 [107.53070466]\n",
      "0.997658083447886 [107.29623835]\n",
      "1.001249728416777 [107.42113316]\n",
      "0.9993341321612099 [107.3545242]\n",
      "1.0003550740637466 [107.39002531]\n",
      "0.9998107399978018 [107.37109751]\n",
      "1.00010090219022 [107.38118722]\n",
      "we found it!! lambda = [107.38118722]\n"
     ]
    }
   ],
   "source": [
    "def get_constraint(sigma, z, lam):\n",
    "    return sum((sigma**2 * z**2) / (sigma**2 + lam) ** 2)\n",
    "\n",
    "\n",
    "x_star = np.linalg.inv(A.T @ A) @ A.T @ b\n",
    "\n",
    "if np.linalg.norm(x_star, 2) >= 1:\n",
    "    U, Sigma, V = np.linalg.svd(A, full_matrices=False)\n",
    "    V = V.T\n",
    "    lam = np.random.random(1)\n",
    "    z = U.T @ b\n",
    "    lr = 1e2\n",
    "\n",
    "    ### Finding lambda numerically\n",
    "    for i in range(100):\n",
    "        constraint = get_constraint(Sigma, z, lam)\n",
    "        if abs(constraint - 1) < 1e-4:\n",
    "            print(f\"we found it!! lambda = {lam}\")\n",
    "            break\n",
    "        else:\n",
    "            lam += lr * np.log(constraint)\n",
    "        print(constraint, lam)\n",
    "    x_star = np.linalg.inv(A.T @ A + lam * np.eye(n)) @ A.T @ b"
   ]
  },
  {
   "cell_type": "code",
   "execution_count": 10,
   "metadata": {},
   "outputs": [
    {
     "name": "stdout",
     "output_type": "stream",
     "text": [
      "comperison of solutions max(x^* - x_cvx)= 8.828499188429095e-06\n"
     ]
    }
   ],
   "source": [
    "x = cp.Variable(n)\n",
    "objective = cp.Minimize(cp.sum_squares(A @ x - b))\n",
    "constraints = [cp.norm(x, 2) ** 2 <= 1]\n",
    "prob = cp.Problem(objective, constraints)\n",
    "result = prob.solve(solver=cp.ECOS)\n",
    "print(f\"comperison of solutions max(x^* - x_cvx)= {max(abs(x.value-x_star))}\")"
   ]
  },
  {
   "cell_type": "code",
   "execution_count": 11,
   "metadata": {},
   "outputs": [
    {
     "data": {
      "image/png": "[encoded data removed]",
      "text/plain": [
       "<Figure size 432x288 with 1 Axes>"
      ]
     },
     "metadata": {
      "needs_background": "light"
     },
     "output_type": "display_data"
    }
   ],
   "source": [
    "plt.title(\"x_cvx vs x_star\")\n",
    "plt.plot(x.value, label=\"x_cvx\")\n",
    "plt.plot(x_star, label=\"x_star\")\n",
    "plt.legend()\n",
    "plt.show()"
   ]
  },
  {
   "cell_type": "markdown",
   "metadata": {},
   "source": [
    "# 3 (4 points) Clustering\n",
    "Consider images in the MNIST dataset for three digits 0, 1, and 2. Denote by $Y =\n",
    "[y_1, . . . , y_K]$ a matrix of vectorization of the images."
   ]
  },
  {
   "cell_type": "markdown",
   "metadata": {},
   "source": [
    "## (a)\n",
    "Solve the following optimization problem to find an orthogonal matrix U and a feature matrix, $X = [x_1, . . . , x_K]$, of size $R \\times K$\n",
    "$$\n",
    "\\begin{align*}\n",
    "\\min \\quad  &||Y-UX||^2_F\\\\\n",
    "\\text{s.t.}\\quad & U^TU = I_R\\\\\n",
    "& X \\geq 0 \\quad X^T 1_r=1_k\n",
    "\\end{align*}\\\\\n",
    "\\begin{align*}\\\\\n",
    "\\min_U ||Y-UX||^2_F &= \\min_U ||Y||^2_F +||UX||^2_F - 2\\langle Y|UX\\rangle = \\\\\n",
    "& = \\min_U  ||X||^2_F - 2trace(Y^TUX) =  \\max_U trace(UXY^T)\\\\\n",
    "XY^T &= A \\Lambda B^T \\\\\n",
    "\\max_U trace(UXY^T) & = \\max_U trace(UA \\Lambda B^T) = \\max_U trace(B^TUA \\Lambda)\\\\\n",
    " & = \\max_U \\sum Q_{ij} * \\sigma_{ij}=\\max_U \\sum Q_{ii} * \\sigma_{ii} \\\\\n",
    "\\end{align*}\\\\\n",
    "\\text{Where $Q = B^TUA $ is orthogonal matrix with largest elements on diagonal =>}\\\\\n",
    "\\text{$Q$ is $I$}\\\\\n",
    "\\begin{align*}\\\\\n",
    "B^TUA &= I\\\\\n",
    "U^* &= BA^T\n",
    "\\end{align*}\\\\\n",
    "\\min_X ||Y-UX||^2_F\\quad  X \\geq 0 \\quad X^T 1_r=1_k \\\\\n",
    "\\begin{align*}\\\\\n",
    "\\mathcal{L} & = \\frac{1}{2}||UX  - Y||^2_F +trace(\\Gamma X) + \\lambda^T (X^T 1_r - 1_k)\\\\\n",
    "\\frac{\\partial\\mathcal{L}}{\\partial x} &=U^T(UX-Y) + 1_r\\lambda^T +\\Gamma^T = 0\\\\\n",
    "&\\text{By complementary slackness if $\\Gamma_{ij} = 0 => X_{ij} > 0$}\\\\\n",
    "\\frac{\\partial\\mathcal{L}}{\\partial x} &=U^T(UX-Y) + 1_r\\lambda^T = 0\\\\\n",
    "& X = U^TY - 1_r\\lambda^T\\\\\n",
    "& x_i = U^T y_i - 1_r\\lambda_i\\\\ \n",
    "& x_i^T1_r = y_i^TU1_r - \\lambda_i 1_r^T1_r = 1\\\\ \n",
    "& \\lambda_i = \\frac{y_i^TU1_r -1_k}{R}\\\\ \n",
    "& \\text{from assumption $x_i >0$ we are filling posotive $x_i$ => $R = count(x_i>0)$}\\\\\n",
    "\n",
    "& x_i = U^T y_i - 1_r\\frac{y_i^TU1_r -1}{R} = U^T y_i - 1_r\\frac{1_r^TU^Ty_i -1}{R} = (I_R - \\frac{1_r1_r^T}{R})U^Ty_i + \\frac{1_r}{R}\\\\\n",
    "& x^*_i =\n",
    "\\begin{matrix}\n",
    "(I_R - \\frac{1_r1_r^T}{R})U^Ty_i + \\frac{1_r}{R} & \\text{ if $x_{ij} > 0, R = count(x_i>0)$}\\\\\n",
    "0& \\text{ else}\n",
    "\\end{matrix}\\\\\n",
    "\\end{align*}\\\\\n",
    "\n",
    "$$"
   ]
  },
  {
   "cell_type": "code",
   "execution_count": 12,
   "metadata": {},
   "outputs": [],
   "source": [
    "def get_U_star(X, Y):\n",
    "    A, Sigma, B = np.linalg.svd(X @ Y.T, full_matrices=False)\n",
    "    B = B.T\n",
    "    U_star = B @ A.T\n",
    "    return U_star\n",
    "\n",
    "\n",
    "def get_X_star(X, Y, U):\n",
    "    for _ in range(30):\n",
    "        for i in range(Y.shape[1]):\n",
    "            x = X[:, i]\n",
    "            y = Y[:, i]\n",
    "\n",
    "            R = sum(x > 0)\n",
    "            I = np.eye(R)\n",
    "            ones = np.ones(R)\n",
    "            b = U.T @ y\n",
    "            x[x > 0] = b[x > 0] + ones * (1 - ones.T @ b[x > 0]) / R\n",
    "            x[x < 0] = 0\n",
    "            X[:, i] = x\n",
    "        if (X < 0).any():\n",
    "            X[X < 0] = 0\n",
    "        else:\n",
    "            return X\n",
    "    return X\n",
    "\n",
    "\n",
    "def get_score(X, U, Y):\n",
    "    norm = np.linalg.norm(Y - U @ X, \"fro\") ** 2\n",
    "    return norm"
   ]
  },
  {
   "cell_type": "code",
   "execution_count": 13,
   "metadata": {},
   "outputs": [
    {
     "name": "stdout",
     "output_type": "stream",
     "text": [
      "26.585521759939382\n",
      "25.4922655606652\n",
      "25.951271104965073\n",
      "26.060792991494758\n",
      "25.03928378211884\n",
      "24.221101189974345\n",
      "24.28839584115279\n",
      "24.125804149046065\n",
      "24.070576674528738\n",
      "24.050870808397775\n",
      "23.936343547421252\n",
      "24.038117174995755\n",
      "24.03728410525974\n"
     ]
    }
   ],
   "source": [
    "R = 8\n",
    "K = 7\n",
    "N = 20\n",
    "X = np.ones((R, K))\n",
    "Y = np.random.random((N, K))\n",
    "U = np.random.random((N, R))\n",
    "prev_score = 1e10\n",
    "for _ in range(200):\n",
    "    U = get_U_star(X, Y)\n",
    "    X = get_X_star(X, Y, U)\n",
    "    score = get_score(X, U, Y)\n",
    "    if abs(prev_score - score) < 1e-5:\n",
    "        break\n",
    "    print(score)\n",
    "    prev_score = score\n",
    "\n",
    "X_star = X\n",
    "U_star = U"
   ]
  },
  {
   "cell_type": "markdown",
   "metadata": {},
   "source": [
    "proofs"
   ]
  },
  {
   "cell_type": "code",
   "execution_count": 14,
   "metadata": {},
   "outputs": [
    {
     "name": "stdout",
     "output_type": "stream",
     "text": [
      "orthogonality\n",
      "[[ 1.  0. -0.  0. -0. -0. -0. -0.]\n",
      " [ 0.  1.  0. -0.  0. -0. -0. -0.]\n",
      " [-0.  0.  1. -0. -0. -0. -0.  0.]\n",
      " [ 0. -0. -0.  1. -0. -0. -0. -0.]\n",
      " [-0.  0. -0. -0.  1.  0. -0.  0.]\n",
      " [-0. -0. -0. -0.  0.  1. -0. -0.]\n",
      " [-0. -0. -0. -0. -0. -0.  1.  0.]\n",
      " [-0. -0.  0. -0.  0. -0.  0.  1.]]\n",
      "count x <0: 0\n",
      "X.T @ 1== [1. 1. 1. 1. 1. 1. 1.]\n"
     ]
    }
   ],
   "source": [
    "print(\"orthogonality\")\n",
    "print(np.round(U_star.T @ U_star))\n",
    "print(\"count x <0:\", np.sum(X_star < 0))\n",
    "print(\"X.T @ 1==\", X.T @ np.ones(R))"
   ]
  },
  {
   "cell_type": "code",
   "execution_count": 15,
   "metadata": {},
   "outputs": [
    {
     "name": "stdout",
     "output_type": "stream",
     "text": [
      "WARNING:tensorflow:From c:\\Users\\Slava\\AppData\\Local\\Programs\\Python\\Python310\\lib\\site-packages\\keras\\src\\losses.py:2976: The name tf.losses.sparse_softmax_cross_entropy is deprecated. Please use tf.compat.v1.losses.sparse_softmax_cross_entropy instead.\n",
      "\n"
     ]
    }
   ],
   "source": [
    "from keras.datasets import mnist"
   ]
  },
  {
   "cell_type": "code",
   "execution_count": 16,
   "metadata": {},
   "outputs": [],
   "source": [
    "(X_train, Y_train), (X_test, Y_test) = mnist.load_data()\n",
    "digints = (Y_test == 0) | (Y_test == 1) | (Y_test == 2)\n",
    "X_data = X_test[digints][:100]  # I took first 100 elements\n",
    "Y_data = Y_test[digints][:100]\n",
    "Y_mnist = X_data.reshape(-1, Y_data.shape[0])"
   ]
  },
  {
   "cell_type": "code",
   "execution_count": 17,
   "metadata": {},
   "outputs": [],
   "source": [
    "Y_mnist = X_data.reshape(-1, Y_data.shape[0])"
   ]
  },
  {
   "cell_type": "code",
   "execution_count": 18,
   "metadata": {},
   "outputs": [
    {
     "name": "stdout",
     "output_type": "stream",
     "text": [
      "486395046.732778\n",
      "474199824.9103841\n",
      "494792826.2126571\n",
      "494749089.74226916\n",
      "494749089.74226916\n"
     ]
    }
   ],
   "source": [
    "R = 3\n",
    "K = Y_mnist.shape[1]\n",
    "N = Y_mnist.shape[0]\n",
    "X = np.ones((R, K))\n",
    "Y = Y_mnist\n",
    "U = np.random.random((N, R))\n",
    "prev_score = 1e10\n",
    "for _ in range(200):\n",
    "    U = get_U_star(X, Y)\n",
    "    X = get_X_star(X, Y, U)\n",
    "    score = get_score(X, U, Y)\n",
    "    print(score)\n",
    "    if abs(prev_score - score) < 1e-9:\n",
    "        break\n",
    "    prev_score = score\n",
    "X_star = X\n",
    "U_star = U"
   ]
  },
  {
   "cell_type": "markdown",
   "metadata": {},
   "source": [
    "proofs"
   ]
  },
  {
   "cell_type": "code",
   "execution_count": 19,
   "metadata": {},
   "outputs": [
    {
     "name": "stdout",
     "output_type": "stream",
     "text": [
      "orthogonality\n",
      "[[ 1.  0.  0.]\n",
      " [ 0.  1. -0.]\n",
      " [ 0. -0.  1.]]\n",
      "count x <0: 0\n",
      "X.T @ 1== [1. 1. 1. 1. 1. 1. 1. 1. 1. 1. 1. 1. 1. 1. 1. 1. 1. 1. 1. 1. 1. 1. 1. 1.\n",
      " 1. 1. 1. 1. 1. 1. 1. 1. 1. 1. 1. 1. 1. 1. 1. 1. 1. 1. 1. 1. 1. 1. 1. 1.\n",
      " 1. 1. 1. 1. 1. 1. 1. 1. 1. 1. 1. 1. 1. 1. 1. 1. 1. 1. 1. 1. 1. 1. 1. 1.\n",
      " 1. 1. 1. 1. 1. 1. 1. 1. 1. 1. 1. 1. 1. 1. 1. 1. 1. 1. 1. 1. 1. 1. 1. 1.\n",
      " 1. 1. 1. 1.]\n"
     ]
    }
   ],
   "source": [
    "print(\"orthogonality\")\n",
    "print(np.round(U_star.T @ U_star))\n",
    "print(\"count x <0:\", np.sum(X_star < 0))\n",
    "print(\"X.T @ 1==\", X.T @ np.ones(R))"
   ]
  },
  {
   "cell_type": "code",
   "execution_count": 20,
   "metadata": {},
   "outputs": [
    {
     "data": {
      "text/plain": [
       "Text(0.5, 1.0, 'X_star')"
      ]
     },
     "execution_count": 20,
     "metadata": {},
     "output_type": "execute_result"
    },
    {
     "data": {
      "image/png": "[encoded data removed]",
      "text/plain": [
       "<Figure size 432x288 with 1 Axes>"
      ]
     },
     "metadata": {
      "needs_background": "light"
     },
     "output_type": "display_data"
    }
   ],
   "source": [
    "plt.imshow(X_star, extent=[1, 0, 1, 0])\n",
    "plt.title(\"X_star\")"
   ]
  },
  {
   "cell_type": "code",
   "execution_count": 21,
   "metadata": {},
   "outputs": [
    {
     "data": {
      "text/plain": [
       "Text(0.5, 1.0, 'U_star')"
      ]
     },
     "execution_count": 21,
     "metadata": {},
     "output_type": "execute_result"
    },
    {
     "data": {
      "image/png": "[encoded data removed]",
      "text/plain": [
       "<Figure size 432x288 with 1 Axes>"
      ]
     },
     "metadata": {
      "needs_background": "light"
     },
     "output_type": "display_data"
    }
   ],
   "source": [
    "plt.imshow(U_star, extent=[1, 0, 1, 0])\n",
    "plt.title(\"U_star\")"
   ]
  },
  {
   "cell_type": "markdown",
   "metadata": {},
   "source": [
    "## (b)\n",
    "On the basis of extracted features, xk, apply the K-means algorithm to predict categorical labels of images"
   ]
  },
  {
   "cell_type": "markdown",
   "metadata": {},
   "source": [
    "I am not from computer science. I tried to figure out how to do it but it took a very long time."
   ]
  },
  {
   "cell_type": "markdown",
   "metadata": {},
   "source": [
    "# 4\n",
    "Solve the following optimization problem by applying optimality condition"
   ]
  },
  {
   "cell_type": "markdown",
   "metadata": {},
   "source": [
    "\n",
    "$$\n",
    "\\begin{align*}\n",
    "\\min \\quad & \\sum_{i=1}^n \\alpha_i \\ln x_i \\\\\n",
    "s.t \\quad&  \\sum_{i=1}^n x_i =1 , \\quad x>=0\\\\\n",
    "\\text{where $\\alpha_i<0$}\n",
    "\\end{align*}\\\\\n",
    "\\begin{align*}\\\\\n",
    "f(x) & = \\sum_{i=1}^n \\alpha_i \\ln x_i \\\\\n",
    "\\sum_{i=1}^n x_i &=1 => 1^Tx_i =1=> \\frac{\\partial f}{\\partial x_i} = \\mu \\\\\n",
    "\\frac{\\partial f}{\\partial x_i} & = \\frac{\\alpha_i}{x_i}=\\mu => x_i =\\frac{\\alpha_i}{\\mu}\\\\\n",
    "\\sum x_i &= \\sum \\frac{\\alpha_i}{\\mu} = \\frac{\\sum \\alpha_i}{\\mu} = 1 =>\\mu = \\sum \\alpha_i\\\\\n",
    "x_i & = \\frac{\\alpha_i}{\\sum \\alpha_i}\\\\\n",
    "\\end{align*}\\\\\n",
    "\\text{ $x_i$ is always positive since numerator and denominator are negative}\\\\\n",
    "$$\n",
    "$$x_i^* = \\frac{\\alpha_i}{\\sum \\alpha_i}$$\n",
    "\n",
    "\n",
    "\n",
    "\n"
   ]
  },
  {
   "cell_type": "code",
   "execution_count": 22,
   "metadata": {},
   "outputs": [
    {
     "data": {
      "text/plain": [
       "array([-0.92554023, -0.48035466, -0.09634361, -0.79935013, -0.3758014 ])"
      ]
     },
     "execution_count": 22,
     "metadata": {},
     "output_type": "execute_result"
    }
   ],
   "source": [
    "alpha = -np.random.random(5)\n",
    "alpha"
   ]
  },
  {
   "cell_type": "code",
   "execution_count": 23,
   "metadata": {},
   "outputs": [],
   "source": [
    "x = cp.Variable(alpha.shape)\n",
    "objective = cp.Minimize(cp.sum(alpha.T @ cp.log(x)))\n",
    "constraints = [cp.sum(x) == 1, x >= 0]\n",
    "prob = cp.Problem(objective, constraints)\n",
    "result = prob.solve(solver=cp.ECOS)"
   ]
  },
  {
   "cell_type": "code",
   "execution_count": 24,
   "metadata": {},
   "outputs": [
    {
     "name": "stdout",
     "output_type": "stream",
     "text": [
      "comperison of solutions max(x^* - x_cvx)= 9.108299192650549e-08\n"
     ]
    }
   ],
   "source": [
    "x_star = alpha / sum(alpha)\n",
    "print(f\"comperison of solutions max(x^* - x_cvx)= {max(abs(x.value-x_star))}\")"
   ]
  },
  {
   "cell_type": "markdown",
   "metadata": {},
   "source": [
    "# 5"
   ]
  },
  {
   "cell_type": "markdown",
   "metadata": {},
   "source": [
    "\n",
    "$$\n",
    "\\text{Prove that the function $f(x) = \\log(\\sum \\exp(x_k))$ is convex}\\\\\n",
    "\\begin{align*}\n",
    "\\frac{\\partial f}{ \\partial x_i} &= \\frac{e^{x_i}}{\\sum e^{x_k}}\\\\\n",
    "\\frac{\\partial f^2}{ \\partial x_i \\partial x_j} &= -\\frac{e^{x_i} e^{x_j}}{(\\sum e^{x_k})^2}\\\\\n",
    "\\frac{\\partial f^2}{ \\partial x_i \\partial x_i} &= \\frac{e^{x_i}}{\\sum e^{x_k}} -\\frac{e^{x_i} e^{x_i}}{(\\sum e^{x_k})^2} \\\\\n",
    "z_i &= \\frac{e^{x_i}}{\\sum e^{x_k}}\\\\\n",
    "H &= diag(z) - z z^T\\\\\\\\\n",
    "\n",
    "v^THv &= \\sum z_i v_i^2 - (\\sum z_iv_i)^2\\\\\n",
    "\\end{align*}\\\\\n",
    "\\text{according to Cauchy-Schwarz inequality}\\\\\n",
    "(\\sum z_i^{1/2}z_i^{1/2}v_i)^2 \\leq (\\sum (z_i^{1/2})^2)(\\sum (z_i^{1/2})^2v_i^2)=\\\\\n",
    " = (\\sum z_i)(\\sum z_iv_i^2) = \\sum z_iv_i^2\\\\\n",
    "\\text{so first term $\\sum z_i v_i^2$ is non-negative and greater then second term $(\\sum z_iv_i)^2$}\\\\\n",
    "\\text{ => $H \\geq 0 $ => f(x) is convex}\n",
    "$$\n",
    "\n",
    "$$\n",
    "\\begin{align*}\n",
    "&\\text{Let's prove that exist such $z$ and $v$ that $v^THv =0$}\\\\\n",
    "&\\text{Let $z_i$ be the constant $z_i = \\zeta$}\\\\\n",
    "&v^THv = \\sum z_i v_i^2 - (\\sum z_iv_i)^2 = \\zeta \\sum v_i^2 - \\zeta^2 (\\sum v_i)^2\\\\\n",
    "&\\text{Assume $v_i$ is constant too $v_i = \\mu$}\\\\\n",
    "&v^THv = \\zeta n \\mu^2 - \\zeta^2 (n\\mu)^2 = \\zeta n \\mu^2 - \\zeta^2 n^2\\mu^2\\\\\n",
    "& \\text{taking into account $\\sum z_i = 1$ i.e. $\\sum \\zeta = n\\zeta = 1$}\\\\\n",
    "&v^THv= \\zeta n \\mu^2 - \\zeta^2 n^2\\mu^2 = \\mu^2 - \\mu^2 = 0\\\\\n",
    "& \\text{Hessian is not strictly > than 0 mean f(x) is not strictly convex}\n",
    "\\end{align*}\n",
    "$$\n"
   ]
  },
  {
   "cell_type": "code",
   "execution_count": 25,
   "metadata": {},
   "outputs": [
    {
     "data": {
      "text/plain": [
       "1.0436096431476471e-14"
      ]
     },
     "execution_count": 25,
     "metadata": {},
     "output_type": "execute_result"
    }
   ],
   "source": [
    "x = np.ones(10) * 2\n",
    "z = np.exp(x) / sum(np.exp(x))\n",
    "v = np.ones(10) * 8\n",
    "H = np.diag(z) - z[:, None] @ z[:, None].T\n",
    "v.T @ H @ v"
   ]
  }
 ],
 "metadata": {
  "kernelspec": {
   "display_name": "Python 3",
   "language": "python",
   "name": "python3"
  },
  "language_info": {
   "codemirror_mode": {
    "name": "ipython",
    "version": 3
   },
   "file_extension": ".py",
   "mimetype": "text/x-python",
   "name": "python",
   "nbconvert_exporter": "python",
   "pygments_lexer": "ipython3",
   "version": "3.10.4"
  }
 },
 "nbformat": 4,
 "nbformat_minor": 2
}
