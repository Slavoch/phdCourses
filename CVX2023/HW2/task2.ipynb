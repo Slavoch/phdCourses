{
 "cells": [
  {
   "cell_type": "markdown",
   "metadata": {},
   "source": [
    "For the same data in Prob 1, find a bi-linear system which maps the two view inputs \\\n",
    "$x^{m}_k = F_k(:, m)$ and $x^n_k = F_k(:, n)$ where $n \\neq m$ to its labels such that\n",
    "\n"
   ]
  },
  {
   "cell_type": "code",
   "execution_count": 1,
   "metadata": {},
   "outputs": [],
   "source": [
    "import numpy as np"
   ]
  },
  {
   "cell_type": "code",
   "execution_count": 3,
   "metadata": {},
   "outputs": [],
   "source": [
    "N = 10\n",
    "X = np.random.random((N, N))\n",
    "W = np.random.random((N, N))\n",
    "Z = np.random.random((N, N))"
   ]
  },
  {
   "cell_type": "code",
   "execution_count": 30,
   "metadata": {},
   "outputs": [],
   "source": [
    "accum = []\n",
    "for i in range(N):\n",
    "    x_k = X[i, None].T\n",
    "    z_k = Z[i, None].T\n",
    "    accum.append(x_k.T @ W @ z_k)\n",
    "total_sum = sum(accum)"
   ]
  },
  {
   "cell_type": "code",
   "execution_count": 32,
   "metadata": {},
   "outputs": [
    {
     "data": {
      "text/plain": [
       "array([[0.]])"
      ]
     },
     "execution_count": 32,
     "metadata": {},
     "output_type": "execute_result"
    }
   ],
   "source": [
    "total_sum - np.trace(W @ Z.T @ X)"
   ]
  },
  {
   "cell_type": "code",
   "execution_count": 33,
   "metadata": {},
   "outputs": [
    {
     "data": {
      "text/plain": [
       "array([[0.05553487],\n",
       "       [0.22180085],\n",
       "       [0.71943407],\n",
       "       [0.6860216 ],\n",
       "       [0.21256692],\n",
       "       [0.34291023],\n",
       "       [0.167174  ],\n",
       "       [0.48572638],\n",
       "       [0.06539323],\n",
       "       [0.59474782]])"
      ]
     },
     "execution_count": 33,
     "metadata": {},
     "output_type": "execute_result"
    }
   ],
   "source": [
    "z_k"
   ]
  },
  {
   "cell_type": "code",
   "execution_count": 24,
   "metadata": {},
   "outputs": [
    {
     "data": {
      "text/plain": [
       "(1, 10)"
      ]
     },
     "execution_count": 24,
     "metadata": {},
     "output_type": "execute_result"
    }
   ],
   "source": [
    "X[1,None]."
   ]
  }
 ],
 "metadata": {
  "kernelspec": {
   "display_name": ".venv",
   "language": "python",
   "name": "python3"
  },
  "language_info": {
   "codemirror_mode": {
    "name": "ipython",
    "version": 3
   },
   "file_extension": ".py",
   "mimetype": "text/x-python",
   "name": "python",
   "nbconvert_exporter": "python",
   "pygments_lexer": "ipython3",
   "version": "3.10.12"
  }
 },
 "nbformat": 4,
 "nbformat_minor": 2
}
