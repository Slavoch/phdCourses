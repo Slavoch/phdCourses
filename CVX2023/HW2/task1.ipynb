{
 "cells": [
  {
   "cell_type": "code",
   "execution_count": 1,
   "metadata": {},
   "outputs": [
    {
     "name": "stderr",
     "output_type": "stream",
     "text": [
      "2023-12-15 20:25:43.820417: E external/local_xla/xla/stream_executor/cuda/cuda_dnn.cc:9261] Unable to register cuDNN factory: Attempting to register factory for plugin cuDNN when one has already been registered\n",
      "2023-12-15 20:25:43.820474: E external/local_xla/xla/stream_executor/cuda/cuda_fft.cc:607] Unable to register cuFFT factory: Attempting to register factory for plugin cuFFT when one has already been registered\n",
      "2023-12-15 20:25:43.821479: E external/local_xla/xla/stream_executor/cuda/cuda_blas.cc:1515] Unable to register cuBLAS factory: Attempting to register factory for plugin cuBLAS when one has already been registered\n",
      "2023-12-15 20:25:43.827576: I tensorflow/core/platform/cpu_feature_guard.cc:182] This TensorFlow binary is optimized to use available CPU instructions in performance-critical operations.\n",
      "To enable the following instructions: AVX2 FMA, in other operations, rebuild TensorFlow with the appropriate compiler flags.\n",
      "2023-12-15 20:25:44.821562: W tensorflow/compiler/tf2tensorrt/utils/py_utils.cc:38] TF-TRT Warning: Could not find TensorRT\n"
     ]
    }
   ],
   "source": [
    "import cv2\n",
    "import os\n",
    "import glob\n",
    "import numpy as np\n",
    "import matplotlib.pyplot as plt\n",
    "from keras.datasets import mnist\n",
    "from numpy.linalg import inv\n",
    "from sklearn.model_selection import KFold\n",
    "from sklearn.metrics import accuracy_score, precision_score"
   ]
  },
  {
   "cell_type": "code",
   "execution_count": 2,
   "metadata": {},
   "outputs": [],
   "source": [
    "def build_Gaborfilters():\n",
    "    filters = []\n",
    "    ksize = 28\n",
    "    for theta in np.linspace(0, np.pi, 32):\n",
    "        kern = cv2.getGaborKernel(\n",
    "            (ksize, ksize), 4.0, theta, 10.0, 0.5, 0, ktype=cv2.CV_32F\n",
    "        )\n",
    "        kern /= 1.5 * kern.sum()\n",
    "        filters.append(kern)\n",
    "    return filters\n",
    "\n",
    "\n",
    "def process(img, filters):\n",
    "    accum = []\n",
    "    for kern in filters:\n",
    "        fimg = cv2.filter2D(img, cv2.CV_8UC3, kern)\n",
    "        accum.append(fimg.reshape(-1))\n",
    "    return np.vstack(accum).T"
   ]
  },
  {
   "cell_type": "markdown",
   "metadata": {},
   "source": [
    "# 1"
   ]
  },
  {
   "cell_type": "markdown",
   "metadata": {},
   "source": [
    "###\n",
    "Consider a subset of the MNIST hand-written images which consists of the first 1000\n",
    "images for digits 0 and 2. Each image is of size 28 × 28, and is transformed by Gabor wavelets to\n",
    "extract features at different orientations and scales. This results in an array of size 28 × 28 × 8 × 4\n",
    "for each image, or equivalently, a matrix F of size 784 × 32. Each column of F corresponds to a\n",
    "different view of the image"
   ]
  },
  {
   "cell_type": "code",
   "execution_count": 3,
   "metadata": {},
   "outputs": [],
   "source": [
    "(images, labels), (test_X, test_y) = mnist.load_data()\n",
    "is_1_2 = (labels == 0) | (labels == 2)\n",
    "labels = labels[is_1_2][:1000]\n",
    "images = images[is_1_2][:1000]\n",
    "\n",
    "\n",
    "F_list = []\n",
    "for img in images:\n",
    "    F = process(img, build_Gaborfilters())\n",
    "    F_list.append(F)"
   ]
  },
  {
   "cell_type": "markdown",
   "metadata": {},
   "source": [
    "## (2 points) Part 1:\n",
    "Basic linear regression. Let $x_k$ be the $m$-th view features of the $k$-th image,\n",
    "i.e., the $m$-th column of $F_k$. Let $y_k$ be the label of the $k$-th image. Solve the following linear regression problem:\n",
    "\n",
    "$$\n",
    "\\min\\sum^K_{k=1}{(y_k - x_k^Tw)^2}\n",
    "$$\n",
    "\n",
    "where $K$ is the number of images in the subset. Report the classification accuracy for 10-fold\n",
    "cross-validation, where the subset is randomly divided into 10 equal parts, and each part is\n",
    "used as a test set once, while the remaining parts are used as a training set.\n"
   ]
  },
  {
   "cell_type": "markdown",
   "metadata": {},
   "source": [
    "Let's denote $z_k = y_k - x_k^Tw$ => $\\min\\sum^K_{k=1}{(y_k - x_k^Tw)^2} = \\min z^T z$\n",
    "\n",
    "$z = [y_1,..,y_K]^T - [x_1,..,x_K]^T w = y - Xw$\n",
    "\n",
    "$\\min z^T z => X^T(y - Xw)= 0 =>w^* = (X^TX)^{-1}X^Ty$"
   ]
  },
  {
   "cell_type": "code",
   "execution_count": 4,
   "metadata": {},
   "outputs": [
    {
     "name": "stdout",
     "output_type": "stream",
     "text": [
      "fold #0 accuracy test 0.38 | accuracy train 1.0|\n",
      "fold #1 accuracy test 0.39 | accuracy train 1.0|\n",
      "fold #2 accuracy test 0.41 | accuracy train 1.0|\n",
      "fold #3 accuracy test 0.43 | accuracy train 0.9988888888888889|\n",
      "fold #4 accuracy test 0.45 | accuracy train 1.0|\n",
      "fold #5 accuracy test 0.45 | accuracy train 1.0|\n",
      "fold #6 accuracy test 0.42 | accuracy train 0.9988888888888889|\n",
      "fold #7 accuracy test 0.3 | accuracy train 0.9988888888888889|\n",
      "fold #8 accuracy test 0.51 | accuracy train 1.0|\n",
      "fold #9 accuracy test 0.38 | accuracy train 1.0|\n"
     ]
    }
   ],
   "source": [
    "def get_w_star(X, y):\n",
    "    return inv(X.T @ X) @ X.T @ y\n",
    "\n",
    "\n",
    "kf = KFold(n_splits=10)\n",
    "m = 10\n",
    "for i, (train, test) in enumerate(kf.split(labels)):\n",
    "    X_train = [F_list[img_indx][:, m] for img_indx in train]\n",
    "    X_train = np.vstack(X_train).astype(float)\n",
    "\n",
    "    X_test = [F_list[img_indx][:, m] for img_indx in test]\n",
    "    X_test = np.vstack(X_test).astype(float)\n",
    "\n",
    "    y_test = labels[test].astype(float)\n",
    "    y_train = labels[train].astype(float)\n",
    "\n",
    "    w_star = get_w_star(X_train, y_train)\n",
    "\n",
    "    y_predict_test = np.round(X_test @ w_star)\n",
    "    score_test = accuracy_score(y_test, y_predict_test)\n",
    "\n",
    "    y_predict_train = np.round(X_train @ w_star)\n",
    "    score_train = accuracy_score(y_train, y_predict_train)\n",
    "\n",
    "    print(f\"fold #{i} accuracy test {score_test} | accuracy train {score_train}|\")"
   ]
  },
  {
   "cell_type": "markdown",
   "metadata": {},
   "source": [
    "## (6 points) Part 2: Robust linear regression.\n",
    "Consider a variant of linear regression in which the input variables $x_k$ are perturbed by some noise $e_k$ with $||e_k||_2 \\leq δ$, where $δ$ is a given parameter.\n",
    "The noise $e_k$ represents the uncertainty or variability in the features extracted by the Gabor wavelets.\n",
    "The task is to seek a weight vector $w$ that minimizes the worst-case error due to the noise $e_k$,i.e.,\n",
    "\n",
    "$$\n",
    "\\begin{align*}\n",
    "\\min_w \\max_{e_k} &\\sum^K_{k=1}(y_k - (x_k + e_k)^Tw)^2\\\\\n",
    "\n",
    "s.t. & ||e_k||^2_2\\leq \\delta^2, k =1...K\n",
    "\\end{align*}\n",
    "$$\n",
    "Simplify the above problem to an unconstrained optimization problem. Solve the simplified\n",
    "problem and report the classification accuracy for 10-fold cross-validation."
   ]
  },
  {
   "cell_type": "markdown",
   "metadata": {},
   "source": [
    "$$\n",
    "\\begin{align*}\n",
    "\\mathcal{L} &= \\sum^K_{k=1}(y_k - (x_k + e_k)^Tw)^2 + \\alpha(||e_k||^2_2 - \\delta^2)\\\\\n",
    "\n",
    "\\frac{\\partial\\mathcal{L}}{\\partial e_k}&=2w(y_k - w^T(x_k + e_k)) + 2 \\alpha e_k = 0\\\\\n",
    "\n",
    "& => w(scalar) +\\alpha e_k=0\\\\\n",
    "& => e_k  \\text{ is parallel to w}\\\\\n",
    "& => e_k =\\lambda w\n",
    "\\end{align*}\n",
    "$$\n",
    "As far as convex function reach its maxima on the boundary (except constant functions) $||e_k||^2_2 = \\delta^2$\n",
    "=> $e_k = \\lambda \\frac{w}{||w||_2}\\delta$ for $\\lambda \\in\\{1,-1\\}$\n",
    "\n",
    "to maximize this function $(y_k - (x_k + e_k)^Tw)^2 = (b - e_k^Tw)^2 = (b - \\lambda \\delta|w|_2)^2$ it is clear that second term should have the sign as $(-b)$ => $\\lambda = \\frac{-b}{|b|}$\n",
    "\n",
    "$$\n",
    "(b - \\lambda \\delta|w|_2)^2 =(b + \\frac{b}{|b|} \\delta|w|_2)^2 = b^2 +2|b|\\delta||w||_2 + ||w||_2^2 = \\\\\n",
    "=(|b|+\\delta||w||_2)^2 = (|y_k - x_k^Tw|+\\delta||w||_2)^2\\\\\n",
    "\n",
    "$$\n",
    "\n",
    "Back to init problem\n",
    "\n",
    "$$\n",
    "\\min_w \\max_{e_k} \\sum^K_{k=1}(y_k - (x_k + e_k)^Tw) =\\min_w \\sum^K_{k=1}(|y_k - x_k^Tw|+\\delta||w||_2)^2\n",
    "$$\n",
    "rewrite to simplified problem (because all terms are positive)\n",
    "$$\n",
    "\\min_w \\sum^K_{k=1}(|y_k - x_k^Tw|+\\delta||w||_2)= \\min_w (||y - Xw||_1+\\delta K ||w||_2)\n",
    "$$\n",
    "\n",
    "I tryed to do something but it did not become better:\n",
    "$$\n",
    "\\frac{\\partial f}{\\partial w} = X^T sign(y - Xw^*) +\\delta K \\frac{w}{||w||_2} = 0\\\\\n",
    " K \\delta \\frac{w}{||w||_2} = - X^T sign(y - Xw^*) = - X^T S\\\\\n",
    "K|\\delta \\frac{w}{||w||_2}|_2=K\\delta => |X^T S|_2 = K\\delta\n",
    "$$\n",
    "So i came with the following:\n",
    "$$\n",
    "K\\delta \\frac{w^*}{||w^*||_2} = - X^T sign(y - Xw^*)\\\\\n",
    "|X^T sign(y - Xw^*)|_2 = \\delta K\n",
    "$$\n",
    "Did not come to closed form solution"
   ]
  },
  {
   "cell_type": "code",
   "execution_count": 5,
   "metadata": {},
   "outputs": [],
   "source": [
    "import cvxpy as cp"
   ]
  },
  {
   "cell_type": "code",
   "execution_count": 6,
   "metadata": {},
   "outputs": [],
   "source": [
    "def get_w_star_cvx(X, y, delta):\n",
    "    w = cp.Variable((784, 1))\n",
    "    K = y.shape[0]\n",
    "    cost = cp.norm(y[:, None] - X @ w, 1) + delta * K * cp.norm(w, 2)\n",
    "    prob = cp.Problem(cp.Minimize(cost))\n",
    "    sol = prob.solve(solver=cp.ECOS)\n",
    "    return w.value"
   ]
  },
  {
   "cell_type": "code",
   "execution_count": 7,
   "metadata": {},
   "outputs": [
    {
     "name": "stdout",
     "output_type": "stream",
     "text": [
      "fold #0 accuracy test 0.81 | accuracy train 0.9511111111111111|\n",
      "fold #1 accuracy test 0.74 | accuracy train 0.9533333333333334|\n",
      "fold #2 accuracy test 0.63 | accuracy train 0.9488888888888889|\n",
      "fold #3 accuracy test 0.77 | accuracy train 0.95|\n",
      "fold #4 accuracy test 0.82 | accuracy train 0.9455555555555556|\n",
      "fold #5 accuracy test 0.77 | accuracy train 0.9511111111111111|\n",
      "fold #6 accuracy test 0.8 | accuracy train 0.9488888888888889|\n",
      "fold #7 accuracy test 0.81 | accuracy train 0.95|\n",
      "fold #8 accuracy test 0.81 | accuracy train 0.9422222222222222|\n",
      "fold #9 accuracy test 0.71 | accuracy train 0.9522222222222222|\n"
     ]
    }
   ],
   "source": [
    "kf = KFold(n_splits=10)\n",
    "m = 10\n",
    "for i, (train, test) in enumerate(kf.split(labels)):\n",
    "    X_train = [F_list[img_indx][:, m] for img_indx in train]\n",
    "    X_train = np.vstack(X_train).astype(float)\n",
    "\n",
    "    X_test = [F_list[img_indx][:, m] for img_indx in test]\n",
    "    X_test = np.vstack(X_test).astype(float)\n",
    "\n",
    "    y_test = labels[test].astype(float)\n",
    "    y_train = labels[train].astype(float)\n",
    "\n",
    "    w_star = get_w_star_cvx(X_train, y_train, 0.4)\n",
    "\n",
    "    y_predict_test = np.round(X_test @ w_star)\n",
    "    score_test = accuracy_score(y_test, y_predict_test)\n",
    "\n",
    "    y_predict_train = np.round(X_train @ w_star)\n",
    "    score_train = accuracy_score(y_train, y_predict_train)\n",
    "\n",
    "    print(f\"fold #{i} accuracy test {score_test} | accuracy train {score_train}|\")"
   ]
  },
  {
   "cell_type": "markdown",
   "metadata": {},
   "source": [
    "Add Gaussian noise with zero mean and standard deviation of 0.01 to $x_k$. Compare perform\n",
    "of the two linear regression methods for the noisy input data, $x_k$.\n"
   ]
  },
  {
   "cell_type": "code",
   "execution_count": 8,
   "metadata": {},
   "outputs": [],
   "source": [
    "def generate_noize():\n",
    "    return np.random.normal(loc=0, scale=0.01, size=(784, 32))"
   ]
  },
  {
   "cell_type": "code",
   "execution_count": 9,
   "metadata": {},
   "outputs": [],
   "source": [
    "F_list_noizy = [F + generate_noize() for F in F_list]"
   ]
  },
  {
   "cell_type": "code",
   "execution_count": 10,
   "metadata": {},
   "outputs": [
    {
     "name": "stdout",
     "output_type": "stream",
     "text": [
      "w_star of initial problem\n",
      "fold #0 accuracy test 0.37 | accuracy train 1.0|\n",
      "fold #1 accuracy test 0.38 | accuracy train 1.0|\n",
      "fold #2 accuracy test 0.41 | accuracy train 1.0|\n",
      "fold #3 accuracy test 0.42 | accuracy train 0.9988888888888889|\n",
      "fold #4 accuracy test 0.46 | accuracy train 1.0|\n",
      "fold #5 accuracy test 0.44 | accuracy train 1.0|\n",
      "fold #6 accuracy test 0.42 | accuracy train 0.9988888888888889|\n",
      "fold #7 accuracy test 0.31 | accuracy train 0.9988888888888889|\n",
      "fold #8 accuracy test 0.51 | accuracy train 1.0|\n",
      "fold #9 accuracy test 0.39 | accuracy train 1.0|\n"
     ]
    }
   ],
   "source": [
    "print(\"w_star of initial problem\")\n",
    "kf = KFold(n_splits=10)\n",
    "m = 10\n",
    "for i, (train, test) in enumerate(kf.split(labels)):\n",
    "    X_train = [F_list_noizy[img_indx][:, m] for img_indx in train]\n",
    "    X_train = np.vstack(X_train).astype(float)\n",
    "\n",
    "    X_test = [F_list_noizy[img_indx][:, m] for img_indx in test]\n",
    "    X_test = np.vstack(X_test).astype(float)\n",
    "\n",
    "    y_test = labels[test].astype(float)\n",
    "    y_train = labels[train].astype(float)\n",
    "\n",
    "    w_star = get_w_star(X_train, y_train)\n",
    "\n",
    "    y_predict_test = np.round(X_test @ w_star)\n",
    "    score_test = accuracy_score(y_test, y_predict_test)\n",
    "\n",
    "    y_predict_train = np.round(X_train @ w_star)\n",
    "    score_train = accuracy_score(y_train, y_predict_train)\n",
    "\n",
    "    print(f\"fold #{i} accuracy test {score_test} | accuracy train {score_train}|\")"
   ]
  },
  {
   "cell_type": "code",
   "execution_count": 11,
   "metadata": {},
   "outputs": [
    {
     "name": "stdout",
     "output_type": "stream",
     "text": [
      "w_star of second problem\n",
      "fold #0 accuracy test 0.75 | accuracy train 0.9566666666666667|\n",
      "fold #1 accuracy test 0.67 | accuracy train 0.9555555555555556|\n",
      "fold #2 accuracy test 0.61 | accuracy train 0.9544444444444444|\n",
      "fold #3 accuracy test 0.78 | accuracy train 0.9555555555555556|\n",
      "fold #4 accuracy test 0.76 | accuracy train 0.9522222222222222|\n",
      "fold #5 accuracy test 0.77 | accuracy train 0.9533333333333334|\n",
      "fold #6 accuracy test 0.77 | accuracy train 0.9533333333333334|\n",
      "fold #7 accuracy test 0.78 | accuracy train 0.9522222222222222|\n",
      "fold #8 accuracy test 0.78 | accuracy train 0.9455555555555556|\n",
      "fold #9 accuracy test 0.69 | accuracy train 0.9511111111111111|\n"
     ]
    }
   ],
   "source": [
    "print(\"w_star of second problem\")\n",
    "kf = KFold(n_splits=10)\n",
    "m = 10\n",
    "for i, (train, test) in enumerate(kf.split(labels)):\n",
    "    X_train = [F_list_noizy[img_indx][:, m] for img_indx in train]\n",
    "    X_train = np.vstack(X_train).astype(float)\n",
    "\n",
    "    X_test = [F_list_noizy[img_indx][:, m] for img_indx in test]\n",
    "    X_test = np.vstack(X_test).astype(float)\n",
    "\n",
    "    y_test = labels[test].astype(float)\n",
    "    y_train = labels[train].astype(float)\n",
    "\n",
    "    w_star = get_w_star_cvx(X_train, y_train, delta=0.3)\n",
    "\n",
    "    y_predict_test = np.round(X_test @ w_star)\n",
    "    score_test = accuracy_score(y_test, y_predict_test)\n",
    "\n",
    "    y_predict_train = np.round(X_train @ w_star)\n",
    "    score_train = accuracy_score(y_train, y_predict_train)\n",
    "\n",
    "    print(f\"fold #{i} accuracy test {score_test} | accuracy train {score_train}|\")"
   ]
  },
  {
   "cell_type": "markdown",
   "metadata": {},
   "source": [
    "The second method works tooo slow"
   ]
  },
  {
   "cell_type": "markdown",
   "metadata": {},
   "source": [
    "## Report classification accuracy for all views."
   ]
  },
  {
   "cell_type": "markdown",
   "metadata": {},
   "source": [
    "For first part solution:\\\n",
    "fold #0 accuracy test 0.38 | accuracy train 1.0|\\\n",
    "fold #1 accuracy test 0.39 | accuracy train 1.0|\\\n",
    "fold #2 accuracy test 0.41 | accuracy train 1.0|\\\n",
    "fold #3 accuracy test 0.43 | accuracy train 0.9988888888888889|\\\n",
    "fold #4 accuracy test 0.45 | accuracy train 1.0|\\\n",
    "fold #5 accuracy test 0.45 | accuracy train 1.0|\\\n",
    "fold #6 accuracy test 0.42 | accuracy train 0.9988888888888889|\\\n",
    "fold #7 accuracy test 0.3 | accuracy train 0.9988888888888889|\\\n",
    "fold #8 accuracy test 0.51 | accuracy train 1.0|\\\n",
    "fold #9 accuracy test 0.38 | accuracy train 1.0|\n",
    "\n",
    "\n",
    "For second part solution: $\\delta = 0.3$\\\n",
    "fold #0 accuracy test 0.81 | accuracy train 0.9511111111111111|\\\n",
    "fold #1 accuracy test 0.74 | accuracy train 0.9533333333333334|\\\n",
    "fold #2 accuracy test 0.63 | accuracy train 0.9488888888888889|\\\n",
    "fold #3 accuracy test 0.77 | accuracy train 0.95|\\\n",
    "fold #4 accuracy test 0.82 | accuracy train 0.9455555555555556|\\\n",
    "fold #5 accuracy test 0.77 | accuracy train 0.9511111111111111|\\\n",
    "fold #6 accuracy test 0.8 | accuracy train 0.9488888888888889|\\\n",
    "fold #7 accuracy test 0.81 | accuracy train 0.95|\\\n",
    "fold #8 accuracy test 0.81 | accuracy train 0.9422222222222222|\\\n",
    "fold #9 accuracy test 0.71 | accuracy train 0.9522222222222222|\n"
   ]
  },
  {
   "cell_type": "markdown",
   "metadata": {},
   "source": [
    "With noize\n",
    "\n",
    "First part solution:\n",
    "fold #0 accuracy test 0.37 | accuracy train 1.0|\\\n",
    "fold #1 accuracy test 0.38 | accuracy train 1.0|\\\n",
    "fold #2 accuracy test 0.41 | accuracy train 1.0|\\\n",
    "fold #3 accuracy test 0.42 | accuracy train 0.9988888888888889|\\\n",
    "fold #4 accuracy test 0.46 | accuracy train 1.0|\\\n",
    "fold #5 accuracy test 0.44 | accuracy train 1.0|\\\n",
    "fold #6 accuracy test 0.42 | accuracy train 0.9988888888888889|\\\n",
    "fold #7 accuracy test 0.31 | accuracy train 0.9988888888888889|\\\n",
    "fold #8 accuracy test 0.51 | accuracy train 1.0|\\\n",
    "fold #9 accuracy test 0.39 | accuracy train 1.0|\\\n",
    "\n",
    "Second part solution: $\\delta = 0.3$\\\n",
    "fold #0 accuracy test 0.75 | accuracy train 0.9566666666666667|\\\n",
    "fold #1 accuracy test 0.67 | accuracy train 0.9555555555555556|\\\n",
    "fold #2 accuracy test 0.61 | accuracy train 0.9544444444444444|\\\n",
    "fold #3 accuracy test 0.78 | accuracy train 0.9555555555555556|\\\n",
    "fold #4 accuracy test 0.76 | accuracy train 0.9522222222222222|\\\n",
    "fold #5 accuracy test 0.77 | accuracy train 0.9533333333333334|\\\n",
    "fold #6 accuracy test 0.77 | accuracy train 0.9533333333333334|\\\n",
    "fold #7 accuracy test 0.78 | accuracy train 0.9522222222222222|\\\n",
    "fold #8 accuracy test 0.78 | accuracy train 0.9455555555555556|\\\n",
    "fold #9 accuracy test 0.69 | accuracy train 0.9511111111111111|\\"
   ]
  }
 ],
 "metadata": {
  "kernelspec": {
   "display_name": ".venv",
   "language": "python",
   "name": "python3"
  },
  "language_info": {
   "codemirror_mode": {
    "name": "ipython",
    "version": 3
   },
   "file_extension": ".py",
   "mimetype": "text/x-python",
   "name": "python",
   "nbconvert_exporter": "python",
   "pygments_lexer": "ipython3",
   "version": "3.10.12"
  }
 },
 "nbformat": 4,
 "nbformat_minor": 2
}
