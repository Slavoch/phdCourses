{
 "cells": [
  {
   "cell_type": "markdown",
   "metadata": {},
   "source": [
    "Consider images from the MNIST dataset, $X_k$, with missing pixels, $k = 1, 2, . . . , K$.\n",
    "Denote by $\\Omega_k$ binary matrices which indicate the missing elements in $X_k$, $w(i, j) = 0$ for the missing elements $x(i, j)$, otherwise $w(i, j) = 1$.\n",
    "\n",
    "Solve an SVM problem which finds a hyperplane $\\{X | tr(W^TX) + b = 0\\}$ such that\n",
    "\n",
    "$$\n",
    "\\begin{align*}\n",
    "\\min_{W,b} \\quad & \\frac{1}{2}||W||_F^2\\\\\n",
    "st. \\quad & y_k(tr(W^TX_k) + b) \\geq 1, \\quad k =1,2,...,K\n",
    "\\end{align*}\n",
    "$$\n",
    "\n",
    "where $y_k \\in \\{-1,1\\}$  are labels for $X_k$"
   ]
  },
  {
   "cell_type": "markdown",
   "metadata": {},
   "source": [
    "Develop and implement an ADMM algorithm to solve the above problem"
   ]
  },
  {
   "cell_type": "markdown",
   "metadata": {},
   "source": [
    "$$\n",
    "\\begin{align*}\n",
    "y_k(tr(W^TX_k) + b) - 1 & \\geq 0\\\\\n",
    "\\min(0,y_k(tr(W^TX_k) + b) - 1) & = 0\\\\\n",
    "\\end{align*}\n",
    "$$\n",
    "denote $g_k =y_k(tr(W^TX_k) + b) - 1$\n",
    "$$\n",
    "h = \\min(0,diag([y_1,...,y_K]^T) [g_1,...,g_K]^T)\n",
    "$$\n",
    "rewrite the problem \n",
    "\n",
    "$$\n",
    "\\begin{align*}\n",
    "\\min_{W,b} \\quad & \\frac{1}{2}||W||_F^2\\\\\n",
    "st. \\quad & h = 0\n",
    "\\end{align*}\n",
    "$$\n",
    "\n",
    "$$\n",
    "\\begin{align*}\n",
    "\\mathcal{L} = \\frac{1}{2}||W||_F^2 + \\frac{\\alpha}{2}||h + u||^2_2\n",
    "\\end{align*}\n",
    "$$\n",
    "ADMM:\n",
    "$$\n",
    "\\begin{align*}\n",
    "g^k_i&=y_i(tr(W^TX_i) + b) - 1\\\\\n",
    "h & = \\min(0,diag([y_1,...,y_K]^T) [g^k_1,...,g^k_K]^T)\\\\\n",
    "W^{k+1} &= \\argmin_W\\mathcal{L}(W,b^k,u^k)\\\\\n",
    "b^{k+1} &= \\argmin_b\\mathcal{L}(W^k,b,u^k)\\\\\n",
    "u^{k+1} &= u^k + h^k\\\\\n",
    "\\end{align*}\n",
    "$$\n",
    "\n",
    "Missing elements:\n",
    "Lets rewrite $tr(W^TX) = \\sum W_{ij}X_{ij}$ to consider only existing elements I substituted $X_{ij} = 0$ where a pixel is missing. We should minimize only such $W_{ij}$ that partisipated in prediction so I substituted $||W||^2_F$ with $||W \\circ \\Omega_{mean}||^2_F$ where $ \\Omega_{mean} = \\sum \\Omega_k/K$. But it doesnt work well."
   ]
  },
  {
   "cell_type": "code",
   "execution_count": 1,
   "metadata": {},
   "outputs": [
    {
     "name": "stderr",
     "output_type": "stream",
     "text": [
      "2023-12-17 22:38:21.112593: E external/local_xla/xla/stream_executor/cuda/cuda_dnn.cc:9261] Unable to register cuDNN factory: Attempting to register factory for plugin cuDNN when one has already been registered\n",
      "2023-12-17 22:38:21.112642: E external/local_xla/xla/stream_executor/cuda/cuda_fft.cc:607] Unable to register cuFFT factory: Attempting to register factory for plugin cuFFT when one has already been registered\n",
      "2023-12-17 22:38:21.113512: E external/local_xla/xla/stream_executor/cuda/cuda_blas.cc:1515] Unable to register cuBLAS factory: Attempting to register factory for plugin cuBLAS when one has already been registered\n",
      "2023-12-17 22:38:21.119539: I tensorflow/core/platform/cpu_feature_guard.cc:182] This TensorFlow binary is optimized to use available CPU instructions in performance-critical operations.\n",
      "To enable the following instructions: AVX2 FMA, in other operations, rebuild TensorFlow with the appropriate compiler flags.\n",
      "2023-12-17 22:38:21.940960: W tensorflow/compiler/tf2tensorrt/utils/py_utils.cc:38] TF-TRT Warning: Could not find TensorRT\n"
     ]
    }
   ],
   "source": [
    "import cv2\n",
    "import os\n",
    "import glob\n",
    "import numpy as np\n",
    "import matplotlib.pyplot as plt\n",
    "from keras.datasets import mnist\n",
    "from numpy.linalg import inv\n",
    "from sklearn.model_selection import KFold\n",
    "from sklearn.metrics import accuracy_score, precision_score\n",
    "import cvxpy as cp\n",
    "\n",
    "cp_type = cp.expressions.variable.Variable"
   ]
  },
  {
   "cell_type": "code",
   "execution_count": 2,
   "metadata": {},
   "outputs": [],
   "source": [
    "# def generate_missig_indexes(N):\n",
    "#     cols = np.random.choice(list(range(0, 28)), size=N)\n",
    "#     rows = np.random.choice(list(range(0, 28)), size=N)\n",
    "#     return rows, cols\n",
    "\n",
    "\n",
    "def generate_mask(missing_elements):\n",
    "    ones = np.ones(28 * 28 - missing_elements)\n",
    "    zeroes = np.zeros(missing_elements)\n",
    "    mask = np.hstack([ones, zeroes])\n",
    "    mask = np.random.permutation(mask)\n",
    "    mask = mask.reshape((28, 28))\n",
    "    return mask\n",
    "\n",
    "\n",
    "def get_img_labels(X, Y, missing_elements, N):\n",
    "    is_0_8 = (Y == 0) | (Y == 8)\n",
    "    labels = Y[is_0_8][:N].astype(float)\n",
    "    images = X[is_0_8][:N].astype(float) / 255\n",
    "\n",
    "    labels = labels / 4 - 1  ## to make [-1,1] labels\n",
    "\n",
    "    mask_list = []\n",
    "    for _ in range(N):\n",
    "        mask_list.append(generate_mask(missing_elements))\n",
    "    images = [images[i] * mask_list[i] for i in range(N)]\n",
    "\n",
    "    return images, labels, mask_list\n",
    "\n",
    "\n",
    "# def corrupt_img(img, missing_elements):\n",
    "#     mis_rows, mis_cols = generate_missig_indexes(missing_elements)\n",
    "#     img[mis_rows, mis_cols] = 0\n",
    "#     return img"
   ]
  },
  {
   "cell_type": "code",
   "execution_count": 3,
   "metadata": {},
   "outputs": [
    {
     "data": {
      "text/plain": [
       "<matplotlib.image.AxesImage at 0x7efca0b409d0>"
      ]
     },
     "execution_count": 3,
     "metadata": {},
     "output_type": "execute_result"
    },
    {
     "data": {
      "image/png": "[encoded data removed]",
      "text/plain": [
       "<Figure size 640x480 with 1 Axes>"
      ]
     },
     "metadata": {},
     "output_type": "display_data"
    }
   ],
   "source": [
    "(images_train, labels_train), (img_test, lab_test) = mnist.load_data()\n",
    "missing_elements = 28 * 28 // 2\n",
    "\n",
    "N_train = 8000\n",
    "images_train, labels_train, mask_list_train = get_img_labels(\n",
    "    images_train, labels_train, missing_elements, N_train\n",
    ")\n",
    "\n",
    "N_test = 1000\n",
    "images_test, labels_test, mask_list_test = get_img_labels(\n",
    "    img_test, lab_test, missing_elements, N_test\n",
    ")\n",
    "\n",
    "plt.imshow(images_train[1])"
   ]
  },
  {
   "cell_type": "code",
   "execution_count": 4,
   "metadata": {},
   "outputs": [],
   "source": [
    "mask_mult = np.zeros((28, 28))\n",
    "for mask in mask_list_train:\n",
    "    mask_mult = mask_mult + mask\n",
    "Omega = mask_mult / N_train"
   ]
  },
  {
   "cell_type": "markdown",
   "metadata": {},
   "source": [
    "Here I did the update rules. Need to mention that I used constraints p > 0, because otherwise always violated the DCP rules (with abs, max, exp etc, didnt know what to do and just added that constraint)."
   ]
  },
  {
   "cell_type": "code",
   "execution_count": 5,
   "metadata": {},
   "outputs": [],
   "source": [
    "class my_solver:\n",
    "    def __init__(self, X, Y, alpha, N, use_all_W) -> None:\n",
    "        self.X = X\n",
    "        self.Y = Y\n",
    "        self.alpha = alpha\n",
    "        self.N = N\n",
    "        self.use_all_W = use_all_W\n",
    "\n",
    "    def argmin_L(self, W=None, b=None, u=None, p=None):\n",
    "        constraints = []\n",
    "        if W is None:\n",
    "            W = cp.Variable((28, 28))\n",
    "        elif b is None:\n",
    "            b = cp.Variable(1)\n",
    "        elif p is None:\n",
    "            p = cp.Variable((self.N, 1))\n",
    "            constraints = [p >= 0]\n",
    "\n",
    "        g = []\n",
    "        for k in range(self.N):\n",
    "            X_k = self.X[k]\n",
    "            y_k = self.Y[k]\n",
    "\n",
    "            g_k = y_k * (cp.trace(W.T @ X_k) + b) - 1\n",
    "            g.append(g_k)\n",
    "        g = cp.vstack(g)\n",
    "\n",
    "        if self.use_all_W:\n",
    "            L = cp.norm(W, \"fro\") ** 2 + self.alpha * cp.norm(g - p + u, 2) ** 2\n",
    "        else:\n",
    "            L = (\n",
    "                cp.norm(cp.multiply(W, Omega), \"fro\") ** 2\n",
    "                + self.alpha * cp.norm(g - p + u, 2) ** 2\n",
    "            )\n",
    "        prob = cp.Problem(cp.Minimize(L), constraints)\n",
    "        prob.solve(\"SCS\")\n",
    "\n",
    "        if type(W) is cp_type:\n",
    "            return W.value\n",
    "        elif type(b) is cp_type:\n",
    "            return b.value\n",
    "        elif type(p) is cp_type:\n",
    "            return p.value\n",
    "\n",
    "    def update_u(self, W, b, u, p):\n",
    "        g = []\n",
    "        for k in range(self.N):\n",
    "            X_k = self.X[k]\n",
    "            y_k = self.Y[k]\n",
    "\n",
    "            g_k = y_k * (np.trace(W.T @ X_k) + b) - 1\n",
    "            g.append(g_k)\n",
    "        g = np.vstack(g)\n",
    "        return u + g - p\n",
    "\n",
    "\n",
    "def predict(W, X, b):\n",
    "    return np.trace(W.T @ X) + b"
   ]
  },
  {
   "cell_type": "code",
   "execution_count": 6,
   "metadata": {},
   "outputs": [
    {
     "name": "stderr",
     "output_type": "stream",
     "text": [
      "/home/sun/.venv/lib/python3.10/site-packages/cvxpy/problems/problem.py:158: UserWarning: Objective contains too many subexpressions. Consider vectorizing your CVXPY code to speed up compilation.\n",
      "  warnings.warn(\"Objective contains too many subexpressions. \"\n",
      "/home/sun/.venv/lib/python3.10/site-packages/cvxpy/problems/problem.py:164: UserWarning: Constraint #1 contains too many subexpressions. Consider vectorizing your CVXPY code to speed up compilation.\n",
      "  warnings.warn(f\"Constraint #{i} contains too many subexpressions. \"\n",
      "/home/sun/.venv/lib/python3.10/site-packages/cvxpy/problems/problem.py:164: UserWarning: Constraint #0 contains too many subexpressions. Consider vectorizing your CVXPY code to speed up compilation.\n",
      "  warnings.warn(f\"Constraint #{i} contains too many subexpressions. \"\n"
     ]
    },
    {
     "name": "stdout",
     "output_type": "stream",
     "text": [
      " accuracy train [0.99] accuracy test [0.534]\n"
     ]
    }
   ],
   "source": [
    "W = np.random.random((28, 28))\n",
    "b = np.random.random()\n",
    "u = np.random.random((N_train, 1))\n",
    "p = np.random.random((N_train, 1))\n",
    "p = p * p\n",
    "\n",
    "alpha = 1\n",
    "solver = my_solver(images_train, labels_train, alpha=alpha, N=N_train, use_all_W=True)\n",
    "\n",
    "for _ in range(3):\n",
    "    W = solver.argmin_L(W=None, b=b, u=u, p=p)\n",
    "    b = solver.argmin_L(W=W, b=None, u=u, p=p)\n",
    "    p = solver.argmin_L(W=W, b=b, u=u, p=None)\n",
    "    u = solver.update_u(W=W, b=b, u=u, p=p)\n",
    "\n",
    "\n",
    "success = []\n",
    "for k in range(N_train):\n",
    "    success.append(labels_train[k] * predict(W, images_train[k], b))\n",
    "result_train = sum(np.vstack(success) > 0) / N_train\n",
    "\n",
    "success = []\n",
    "for k in range(N_test):\n",
    "    success.append(labels_test[k] * predict(W, img_test[k], b))\n",
    "result_test = sum(np.vstack(success) > 0) / N_test\n",
    "\n",
    "print(f\" accuracy train {result_train} accuracy test {result_test}\")"
   ]
  },
  {
   "cell_type": "markdown",
   "metadata": {},
   "source": [
    "• Treat the missing elements in $X_k$ as zeros, and solve the SVM problem (7) again. Compare\n",
    "performance of the two methods.\n",
    "\n",
    "use_all_W in code means to use $||W||^2_F$ in L else use $||W \\circ \\Omega_{mean}||^2_F$ where $ \\Omega_{mean} = \\sum \\Omega_k/K$"
   ]
  },
  {
   "cell_type": "code",
   "execution_count": 7,
   "metadata": {},
   "outputs": [
    {
     "name": "stdout",
     "output_type": "stream",
     "text": [
      " accuracy train [0.990375] accuracy test [0.544]\n"
     ]
    }
   ],
   "source": [
    "W = np.random.random((28, 28))\n",
    "b = np.random.random()\n",
    "u = np.random.random((N_train, 1))\n",
    "p = np.random.random((N_train, 1))\n",
    "p = p * p\n",
    "\n",
    "alpha = 1\n",
    "solver = my_solver(images_train, labels_train, alpha=alpha, N=N_train, use_all_W=False)\n",
    "\n",
    "for _ in range(3):\n",
    "    W = solver.argmin_L(W=None, b=b, u=u, p=p)\n",
    "    b = solver.argmin_L(W=W, b=None, u=u, p=p)\n",
    "    p = solver.argmin_L(W=W, b=b, u=u, p=None)\n",
    "    u = solver.update_u(W=W, b=b, u=u, p=p)\n",
    "\n",
    "\n",
    "success = []\n",
    "for k in range(N_train):\n",
    "    success.append(labels_train[k] * predict(W, images_train[k], b))\n",
    "result_train = sum(np.vstack(success) > 0) / N_train\n",
    "\n",
    "success = []\n",
    "for k in range(N_test):\n",
    "    success.append(labels_test[k] * predict(W, img_test[k], b))\n",
    "result_test = sum(np.vstack(success) > 0) / N_test\n",
    "\n",
    "print(f\" accuracy train {result_train} accuracy test {result_test}\")"
   ]
  },
  {
   "cell_type": "markdown",
   "metadata": {},
   "source": [
    "So you may see the results Num train imgs (8000) test (1000) (the bigger number leads to problems with my laptop).\\\n",
    "Method with substitution of missing pixels with zero \\\n",
    "accuracy train [0.99] accuracy test [0.534]\\\n",
    "My method\\\n",
    "accuracy train [0.990375] accuracy test [0.544] \\"
   ]
  }
 ],
 "metadata": {
  "kernelspec": {
   "display_name": ".venv",
   "language": "python",
   "name": "python3"
  },
  "language_info": {
   "codemirror_mode": {
    "name": "ipython",
    "version": 3
   },
   "file_extension": ".py",
   "mimetype": "text/x-python",
   "name": "python",
   "nbconvert_exporter": "python",
   "pygments_lexer": "ipython3",
   "version": "3.10.12"
  }
 },
 "nbformat": 4,
 "nbformat_minor": 2
}
